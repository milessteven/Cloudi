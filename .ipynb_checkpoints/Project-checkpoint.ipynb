{
 "cells": [
  {
   "cell_type": "code",
   "execution_count": 2,
   "id": "abddb9e4-046c-4f80-aeb3-e70848e2c00e",
   "metadata": {},
   "outputs": [],
   "source": [
    "# importation of libaries\n",
    "import pandas as pd\n",
    "import numpy as np\n",
    "import sklearn\n",
    "\n",
    "import matplotlib.pyplot as plt\n",
    "%matplotlib inline\n",
    "import seaborn as sns\n",
    "sns.set()\n",
    "sns.set(style=\"darkgrid\")\n",
    "plt.rcParams['figure.figsize']=(10,10)\n",
    "\n",
    "from sklearn.preprocessing import StandardScaler\n",
    "from sklearn.preprocessing import LabelEncoder\n",
    "from sklearn.preprocessing import MinMaxScaler\n",
    "from sklearn.model_selection import train_test_split"
   ]
  },
  {
   "cell_type": "code",
   "execution_count": 3,
   "id": "33726ce0-313b-4ab3-9aee-713be36808ce",
   "metadata": {},
   "outputs": [
    {
     "data": {
      "text/html": [
       "<div>\n",
       "<style scoped>\n",
       "    .dataframe tbody tr th:only-of-type {\n",
       "        vertical-align: middle;\n",
       "    }\n",
       "\n",
       "    .dataframe tbody tr th {\n",
       "        vertical-align: top;\n",
       "    }\n",
       "\n",
       "    .dataframe thead th {\n",
       "        text-align: right;\n",
       "    }\n",
       "</style>\n",
       "<table border=\"1\" class=\"dataframe\">\n",
       "  <thead>\n",
       "    <tr style=\"text-align: right;\">\n",
       "      <th></th>\n",
       "      <th>Temperature</th>\n",
       "      <th>Humidity</th>\n",
       "      <th>Light Intensity</th>\n",
       "      <th>Air Quality</th>\n",
       "      <th>Weather Condition</th>\n",
       "      <th>Air-quality Condition</th>\n",
       "    </tr>\n",
       "  </thead>\n",
       "  <tbody>\n",
       "    <tr>\n",
       "      <th>0</th>\n",
       "      <td>26.239883</td>\n",
       "      <td>53.166158</td>\n",
       "      <td>17262.31400</td>\n",
       "      <td>88.264016</td>\n",
       "      <td>Cloudy</td>\n",
       "      <td>Moderate</td>\n",
       "    </tr>\n",
       "    <tr>\n",
       "      <th>1</th>\n",
       "      <td>38.915715</td>\n",
       "      <td>87.671434</td>\n",
       "      <td>81642.89730</td>\n",
       "      <td>110.243105</td>\n",
       "      <td>Rainy</td>\n",
       "      <td>Unhealthy</td>\n",
       "    </tr>\n",
       "    <tr>\n",
       "      <th>2</th>\n",
       "      <td>34.103867</td>\n",
       "      <td>84.321039</td>\n",
       "      <td>66854.52485</td>\n",
       "      <td>93.219131</td>\n",
       "      <td>Rainy</td>\n",
       "      <td>Moderate</td>\n",
       "    </tr>\n",
       "    <tr>\n",
       "      <th>3</th>\n",
       "      <td>31.170487</td>\n",
       "      <td>41.747468</td>\n",
       "      <td>52783.47705</td>\n",
       "      <td>389.792237</td>\n",
       "      <td>Clear</td>\n",
       "      <td>Hazardous</td>\n",
       "    </tr>\n",
       "    <tr>\n",
       "      <th>4</th>\n",
       "      <td>21.432410</td>\n",
       "      <td>34.161678</td>\n",
       "      <td>36524.21793</td>\n",
       "      <td>175.062630</td>\n",
       "      <td>Cloudy</td>\n",
       "      <td>Very Unhealthy</td>\n",
       "    </tr>\n",
       "    <tr>\n",
       "      <th>5</th>\n",
       "      <td>21.431879</td>\n",
       "      <td>36.046680</td>\n",
       "      <td>87842.85354</td>\n",
       "      <td>28.921338</td>\n",
       "      <td>Cloudy</td>\n",
       "      <td>Good</td>\n",
       "    </tr>\n",
       "    <tr>\n",
       "      <th>6</th>\n",
       "      <td>19.277839</td>\n",
       "      <td>31.093310</td>\n",
       "      <td>39852.06563</td>\n",
       "      <td>484.551315</td>\n",
       "      <td>Cloudy</td>\n",
       "      <td>Hazardous</td>\n",
       "    </tr>\n",
       "    <tr>\n",
       "      <th>7</th>\n",
       "      <td>37.055875</td>\n",
       "      <td>35.666578</td>\n",
       "      <td>81843.34451</td>\n",
       "      <td>441.892943</td>\n",
       "      <td>Clear</td>\n",
       "      <td>Hazardous</td>\n",
       "    </tr>\n",
       "    <tr>\n",
       "      <th>8</th>\n",
       "      <td>31.224530</td>\n",
       "      <td>70.980406</td>\n",
       "      <td>44474.35595</td>\n",
       "      <td>463.876142</td>\n",
       "      <td>Rainy</td>\n",
       "      <td>Hazardous</td>\n",
       "    </tr>\n",
       "    <tr>\n",
       "      <th>9</th>\n",
       "      <td>33.577597</td>\n",
       "      <td>34.271319</td>\n",
       "      <td>38317.49851</td>\n",
       "      <td>497.453911</td>\n",
       "      <td>Clear</td>\n",
       "      <td>Hazardous</td>\n",
       "    </tr>\n",
       "  </tbody>\n",
       "</table>\n",
       "</div>"
      ],
      "text/plain": [
       "   Temperature   Humidity  Light Intensity  Air Quality Weather Condition  \\\n",
       "0    26.239883  53.166158      17262.31400    88.264016            Cloudy   \n",
       "1    38.915715  87.671434      81642.89730   110.243105             Rainy   \n",
       "2    34.103867  84.321039      66854.52485    93.219131             Rainy   \n",
       "3    31.170487  41.747468      52783.47705   389.792237             Clear   \n",
       "4    21.432410  34.161678      36524.21793   175.062630            Cloudy   \n",
       "5    21.431879  36.046680      87842.85354    28.921338            Cloudy   \n",
       "6    19.277839  31.093310      39852.06563   484.551315            Cloudy   \n",
       "7    37.055875  35.666578      81843.34451   441.892943             Clear   \n",
       "8    31.224530  70.980406      44474.35595   463.876142             Rainy   \n",
       "9    33.577597  34.271319      38317.49851   497.453911             Clear   \n",
       "\n",
       "  Air-quality Condition  \n",
       "0              Moderate  \n",
       "1             Unhealthy  \n",
       "2              Moderate  \n",
       "3             Hazardous  \n",
       "4        Very Unhealthy  \n",
       "5                  Good  \n",
       "6             Hazardous  \n",
       "7             Hazardous  \n",
       "8             Hazardous  \n",
       "9             Hazardous  "
      ]
     },
     "execution_count": 3,
     "metadata": {},
     "output_type": "execute_result"
    }
   ],
   "source": [
    "# display of dataset\n",
    "df = pd.read_csv(\"weather_data.csv\")\n",
    "df.head(10)"
   ]
  },
  {
   "cell_type": "code",
   "execution_count": 4,
   "id": "a7a2925e-7e76-45a7-be32-0776e5dd1e77",
   "metadata": {},
   "outputs": [
    {
     "name": "stdout",
     "output_type": "stream",
     "text": [
      "<class 'pandas.core.frame.DataFrame'>\n",
      "RangeIndex: 365 entries, 0 to 364\n",
      "Data columns (total 6 columns):\n",
      " #   Column                 Non-Null Count  Dtype  \n",
      "---  ------                 --------------  -----  \n",
      " 0   Temperature            365 non-null    float64\n",
      " 1   Humidity               365 non-null    float64\n",
      " 2   Light Intensity        365 non-null    float64\n",
      " 3   Air Quality            365 non-null    float64\n",
      " 4   Weather Condition      365 non-null    object \n",
      " 5   Air-quality Condition  365 non-null    object \n",
      "dtypes: float64(4), object(2)\n",
      "memory usage: 17.2+ KB\n"
     ]
    }
   ],
   "source": [
    "df.info() # check information"
   ]
  },
  {
   "cell_type": "code",
   "execution_count": 5,
   "id": "a8abc47c-9e51-45b9-b62f-240ae10b06cd",
   "metadata": {},
   "outputs": [
    {
     "data": {
      "text/plain": [
       "Temperature              0\n",
       "Humidity                 0\n",
       "Light Intensity          0\n",
       "Air Quality              0\n",
       "Weather Condition        0\n",
       "Air-quality Condition    0\n",
       "dtype: int64"
      ]
     },
     "execution_count": 5,
     "metadata": {},
     "output_type": "execute_result"
    }
   ],
   "source": [
    "df.isna().sum() # checking missing values"
   ]
  },
  {
   "cell_type": "code",
   "execution_count": 6,
   "id": "b38a7922-49e6-41b2-b466-c6193f27f708",
   "metadata": {},
   "outputs": [
    {
     "data": {
      "text/html": [
       "<div>\n",
       "<style scoped>\n",
       "    .dataframe tbody tr th:only-of-type {\n",
       "        vertical-align: middle;\n",
       "    }\n",
       "\n",
       "    .dataframe tbody tr th {\n",
       "        vertical-align: top;\n",
       "    }\n",
       "\n",
       "    .dataframe thead th {\n",
       "        text-align: right;\n",
       "    }\n",
       "</style>\n",
       "<table border=\"1\" class=\"dataframe\">\n",
       "  <thead>\n",
       "    <tr style=\"text-align: right;\">\n",
       "      <th></th>\n",
       "      <th>Temperature</th>\n",
       "      <th>Humidity</th>\n",
       "      <th>Light Intensity</th>\n",
       "      <th>Air Quality</th>\n",
       "    </tr>\n",
       "  </thead>\n",
       "  <tbody>\n",
       "    <tr>\n",
       "      <th>count</th>\n",
       "      <td>365.000000</td>\n",
       "      <td>365.000000</td>\n",
       "      <td>365.000000</td>\n",
       "      <td>365.000000</td>\n",
       "    </tr>\n",
       "    <tr>\n",
       "      <th>mean</th>\n",
       "      <td>28.814035</td>\n",
       "      <td>59.678508</td>\n",
       "      <td>50341.984007</td>\n",
       "      <td>255.152550</td>\n",
       "    </tr>\n",
       "    <tr>\n",
       "      <th>std</th>\n",
       "      <td>6.403553</td>\n",
       "      <td>18.038245</td>\n",
       "      <td>28752.867721</td>\n",
       "      <td>148.867714</td>\n",
       "    </tr>\n",
       "    <tr>\n",
       "      <th>min</th>\n",
       "      <td>18.111355</td>\n",
       "      <td>30.650259</td>\n",
       "      <td>1458.570277</td>\n",
       "      <td>2.469990</td>\n",
       "    </tr>\n",
       "    <tr>\n",
       "      <th>25%</th>\n",
       "      <td>23.320750</td>\n",
       "      <td>42.777850</td>\n",
       "      <td>24638.937430</td>\n",
       "      <td>114.227371</td>\n",
       "    </tr>\n",
       "    <tr>\n",
       "      <th>50%</th>\n",
       "      <td>29.249533</td>\n",
       "      <td>59.526978</td>\n",
       "      <td>50338.409500</td>\n",
       "      <td>265.584764</td>\n",
       "    </tr>\n",
       "    <tr>\n",
       "      <th>75%</th>\n",
       "      <td>34.038158</td>\n",
       "      <td>75.690638</td>\n",
       "      <td>74650.682960</td>\n",
       "      <td>380.513951</td>\n",
       "    </tr>\n",
       "    <tr>\n",
       "      <th>max</th>\n",
       "      <td>39.781185</td>\n",
       "      <td>89.983060</td>\n",
       "      <td>99795.476940</td>\n",
       "      <td>498.562250</td>\n",
       "    </tr>\n",
       "  </tbody>\n",
       "</table>\n",
       "</div>"
      ],
      "text/plain": [
       "       Temperature    Humidity  Light Intensity  Air Quality\n",
       "count   365.000000  365.000000       365.000000   365.000000\n",
       "mean     28.814035   59.678508     50341.984007   255.152550\n",
       "std       6.403553   18.038245     28752.867721   148.867714\n",
       "min      18.111355   30.650259      1458.570277     2.469990\n",
       "25%      23.320750   42.777850     24638.937430   114.227371\n",
       "50%      29.249533   59.526978     50338.409500   265.584764\n",
       "75%      34.038158   75.690638     74650.682960   380.513951\n",
       "max      39.781185   89.983060     99795.476940   498.562250"
      ]
     },
     "execution_count": 6,
     "metadata": {},
     "output_type": "execute_result"
    }
   ],
   "source": [
    "df.describe()  # checking statistics of data set"
   ]
  },
  {
   "cell_type": "code",
   "execution_count": null,
   "id": "dfc2bbcd-6db3-4dc7-986e-1fea0ed6f43d",
   "metadata": {},
   "outputs": [],
   "source": []
  },
  {
   "cell_type": "code",
   "execution_count": 7,
   "id": "82d764a2-65c8-4cc5-a81a-81512095ccb0",
   "metadata": {},
   "outputs": [
    {
     "name": "stdout",
     "output_type": "stream",
     "text": [
      "<class 'pandas.core.frame.DataFrame'>\n",
      "RangeIndex: 365 entries, 0 to 364\n",
      "Data columns (total 6 columns):\n",
      " #   Column                 Non-Null Count  Dtype  \n",
      "---  ------                 --------------  -----  \n",
      " 0   Temperature            365 non-null    float64\n",
      " 1   Humidity               365 non-null    float64\n",
      " 2   Light Intensity        365 non-null    float64\n",
      " 3   Air Quality            365 non-null    float64\n",
      " 4   Weather Condition      365 non-null    object \n",
      " 5   Air-quality Condition  365 non-null    object \n",
      "dtypes: float64(4), object(2)\n",
      "memory usage: 17.2+ KB\n"
     ]
    }
   ],
   "source": [
    "df.info()"
   ]
  },
  {
   "cell_type": "code",
   "execution_count": null,
   "id": "dc5048a9-044d-4f65-8ff7-ecbfdeed451d",
   "metadata": {},
   "outputs": [],
   "source": []
  },
  {
   "cell_type": "code",
   "execution_count": 8,
   "id": "c8d88ae4-8b60-4173-8ad5-b4312c0d25a1",
   "metadata": {},
   "outputs": [
    {
     "data": {
      "text/html": [
       "<div>\n",
       "<style scoped>\n",
       "    .dataframe tbody tr th:only-of-type {\n",
       "        vertical-align: middle;\n",
       "    }\n",
       "\n",
       "    .dataframe tbody tr th {\n",
       "        vertical-align: top;\n",
       "    }\n",
       "\n",
       "    .dataframe thead th {\n",
       "        text-align: right;\n",
       "    }\n",
       "</style>\n",
       "<table border=\"1\" class=\"dataframe\">\n",
       "  <thead>\n",
       "    <tr style=\"text-align: right;\">\n",
       "      <th></th>\n",
       "      <th>Temperature</th>\n",
       "      <th>Humidity</th>\n",
       "      <th>Light Intensity</th>\n",
       "      <th>Air Quality</th>\n",
       "      <th>Weather Condition</th>\n",
       "      <th>Air-quality Condition</th>\n",
       "    </tr>\n",
       "  </thead>\n",
       "  <tbody>\n",
       "    <tr>\n",
       "      <th>0</th>\n",
       "      <td>26.239883</td>\n",
       "      <td>53.166158</td>\n",
       "      <td>17262.31400</td>\n",
       "      <td>88.264016</td>\n",
       "      <td>Cloudy</td>\n",
       "      <td>Moderate</td>\n",
       "    </tr>\n",
       "    <tr>\n",
       "      <th>1</th>\n",
       "      <td>38.915715</td>\n",
       "      <td>87.671434</td>\n",
       "      <td>81642.89730</td>\n",
       "      <td>110.243105</td>\n",
       "      <td>Rainy</td>\n",
       "      <td>Unhealthy</td>\n",
       "    </tr>\n",
       "    <tr>\n",
       "      <th>2</th>\n",
       "      <td>34.103867</td>\n",
       "      <td>84.321039</td>\n",
       "      <td>66854.52485</td>\n",
       "      <td>93.219131</td>\n",
       "      <td>Rainy</td>\n",
       "      <td>Moderate</td>\n",
       "    </tr>\n",
       "    <tr>\n",
       "      <th>3</th>\n",
       "      <td>31.170487</td>\n",
       "      <td>41.747468</td>\n",
       "      <td>52783.47705</td>\n",
       "      <td>389.792237</td>\n",
       "      <td>Clear</td>\n",
       "      <td>Hazardous</td>\n",
       "    </tr>\n",
       "    <tr>\n",
       "      <th>4</th>\n",
       "      <td>21.432410</td>\n",
       "      <td>34.161678</td>\n",
       "      <td>36524.21793</td>\n",
       "      <td>175.062630</td>\n",
       "      <td>Cloudy</td>\n",
       "      <td>Very Unhealthy</td>\n",
       "    </tr>\n",
       "  </tbody>\n",
       "</table>\n",
       "</div>"
      ],
      "text/plain": [
       "   Temperature   Humidity  Light Intensity  Air Quality Weather Condition  \\\n",
       "0    26.239883  53.166158      17262.31400    88.264016            Cloudy   \n",
       "1    38.915715  87.671434      81642.89730   110.243105             Rainy   \n",
       "2    34.103867  84.321039      66854.52485    93.219131             Rainy   \n",
       "3    31.170487  41.747468      52783.47705   389.792237             Clear   \n",
       "4    21.432410  34.161678      36524.21793   175.062630            Cloudy   \n",
       "\n",
       "  Air-quality Condition  \n",
       "0              Moderate  \n",
       "1             Unhealthy  \n",
       "2              Moderate  \n",
       "3             Hazardous  \n",
       "4        Very Unhealthy  "
      ]
     },
     "execution_count": 8,
     "metadata": {},
     "output_type": "execute_result"
    }
   ],
   "source": [
    "df.head()"
   ]
  },
  {
   "cell_type": "code",
   "execution_count": null,
   "id": "2a3e19d8-1630-424c-9474-6e8887c23582",
   "metadata": {},
   "outputs": [],
   "source": []
  },
  {
   "cell_type": "code",
   "execution_count": 9,
   "id": "2bad3ad4-9b67-441c-a15d-c4330b58e5b6",
   "metadata": {},
   "outputs": [
    {
     "data": {
      "text/html": [
       "<div>\n",
       "<style scoped>\n",
       "    .dataframe tbody tr th:only-of-type {\n",
       "        vertical-align: middle;\n",
       "    }\n",
       "\n",
       "    .dataframe tbody tr th {\n",
       "        vertical-align: top;\n",
       "    }\n",
       "\n",
       "    .dataframe thead th {\n",
       "        text-align: right;\n",
       "    }\n",
       "</style>\n",
       "<table border=\"1\" class=\"dataframe\">\n",
       "  <thead>\n",
       "    <tr style=\"text-align: right;\">\n",
       "      <th></th>\n",
       "      <th>Temperature</th>\n",
       "      <th>Humidity</th>\n",
       "      <th>Light Intensity</th>\n",
       "      <th>Air Quality</th>\n",
       "      <th>Weather Condition</th>\n",
       "      <th>Air-quality Condition</th>\n",
       "    </tr>\n",
       "  </thead>\n",
       "  <tbody>\n",
       "    <tr>\n",
       "      <th>0</th>\n",
       "      <td>26.239883</td>\n",
       "      <td>53.166158</td>\n",
       "      <td>17262.31400</td>\n",
       "      <td>88.264016</td>\n",
       "      <td>Cloudy</td>\n",
       "      <td>Moderate</td>\n",
       "    </tr>\n",
       "    <tr>\n",
       "      <th>1</th>\n",
       "      <td>38.915715</td>\n",
       "      <td>87.671434</td>\n",
       "      <td>81642.89730</td>\n",
       "      <td>110.243105</td>\n",
       "      <td>Rainy</td>\n",
       "      <td>Unhealthy</td>\n",
       "    </tr>\n",
       "    <tr>\n",
       "      <th>2</th>\n",
       "      <td>34.103867</td>\n",
       "      <td>84.321039</td>\n",
       "      <td>66854.52485</td>\n",
       "      <td>93.219131</td>\n",
       "      <td>Rainy</td>\n",
       "      <td>Moderate</td>\n",
       "    </tr>\n",
       "    <tr>\n",
       "      <th>3</th>\n",
       "      <td>31.170487</td>\n",
       "      <td>41.747468</td>\n",
       "      <td>52783.47705</td>\n",
       "      <td>389.792237</td>\n",
       "      <td>Clear</td>\n",
       "      <td>Hazardous</td>\n",
       "    </tr>\n",
       "    <tr>\n",
       "      <th>4</th>\n",
       "      <td>21.432410</td>\n",
       "      <td>34.161678</td>\n",
       "      <td>36524.21793</td>\n",
       "      <td>175.062630</td>\n",
       "      <td>Cloudy</td>\n",
       "      <td>Very Unhealthy</td>\n",
       "    </tr>\n",
       "  </tbody>\n",
       "</table>\n",
       "</div>"
      ],
      "text/plain": [
       "   Temperature   Humidity  Light Intensity  Air Quality Weather Condition  \\\n",
       "0    26.239883  53.166158      17262.31400    88.264016            Cloudy   \n",
       "1    38.915715  87.671434      81642.89730   110.243105             Rainy   \n",
       "2    34.103867  84.321039      66854.52485    93.219131             Rainy   \n",
       "3    31.170487  41.747468      52783.47705   389.792237             Clear   \n",
       "4    21.432410  34.161678      36524.21793   175.062630            Cloudy   \n",
       "\n",
       "  Air-quality Condition  \n",
       "0              Moderate  \n",
       "1             Unhealthy  \n",
       "2              Moderate  \n",
       "3             Hazardous  \n",
       "4        Very Unhealthy  "
      ]
     },
     "execution_count": 9,
     "metadata": {},
     "output_type": "execute_result"
    }
   ],
   "source": [
    "df.head()"
   ]
  },
  {
   "cell_type": "code",
   "execution_count": 10,
   "id": "184c5251-61dc-4b30-b9a2-149a450cd319",
   "metadata": {},
   "outputs": [
    {
     "name": "stdout",
     "output_type": "stream",
     "text": [
      "Non-numeric columns: Index(['Weather Condition', 'Air-quality Condition'], dtype='object')\n"
     ]
    },
    {
     "data": {
      "image/png": "[encoded data removed]",
      "text/plain": [
       "<Figure size 1000x900 with 2 Axes>"
      ]
     },
     "metadata": {},
     "output_type": "display_data"
    }
   ],
   "source": [
    "# Assuming df is your DataFrame\n",
    "# Identify non-numeric columns\n",
    "non_numeric_cols = df.select_dtypes(exclude=['number']).columns\n",
    "\n",
    "# Optionally, print non-numeric columns\n",
    "print(\"Non-numeric columns:\", non_numeric_cols)\n",
    "\n",
    "# Drop non-numeric columns\n",
    "df_numeric = df.drop(columns=non_numeric_cols)\n",
    "\n",
    "# Now you can calculate the correlation and plot the heatmap\n",
    "plt.figure(figsize=(10,9))\n",
    "sns.heatmap(df_numeric.corr(), annot=False)\n",
    "plt.show()"
   ]
  },
  {
   "cell_type": "code",
   "execution_count": 11,
   "id": "75c2ed3e-e8e3-4483-9d99-1eadc0250e53",
   "metadata": {},
   "outputs": [
    {
     "data": {
      "text/plain": [
       "<Axes: xlabel='Weather Condition', ylabel='Temperature'>"
      ]
     },
     "execution_count": 11,
     "metadata": {},
     "output_type": "execute_result"
    },
    {
     "data": {
      "image/png": "[encoded data removed]",
      "text/plain": [
       "<Figure size 1000x1000 with 1 Axes>"
      ]
     },
     "metadata": {},
     "output_type": "display_data"
    }
   ],
   "source": [
    "sns.barplot(y=\"Temperature\", x=\"Weather Condition\",data= df[:100] , orient = \"vertical\")"
   ]
  },
  {
   "cell_type": "code",
   "execution_count": 12,
   "id": "42cb58dd-3976-489f-b3ca-ab72e522525b",
   "metadata": {},
   "outputs": [
    {
     "data": {
      "text/plain": [
       "<Axes: xlabel='Weather Condition', ylabel='Humidity'>"
      ]
     },
     "execution_count": 12,
     "metadata": {},
     "output_type": "execute_result"
    },
    {
     "data": {
      "image/png": "[encoded data removed]",
      "text/plain": [
       "<Figure size 1000x1000 with 1 Axes>"
      ]
     },
     "metadata": {},
     "output_type": "display_data"
    }
   ],
   "source": [
    "sns.barplot(y=\"Humidity\", x=\"Weather Condition\",data= df[:100] , orient = \"vertical\")"
   ]
  },
  {
   "cell_type": "code",
   "execution_count": 13,
   "id": "109bce0d-d83a-4780-b1e4-31e2f8b0f56e",
   "metadata": {},
   "outputs": [
    {
     "data": {
      "text/plain": [
       "<Axes: xlabel='Weather Condition', ylabel='Light Intensity'>"
      ]
     },
     "execution_count": 13,
     "metadata": {},
     "output_type": "execute_result"
    },
    {
     "data": {
      "image/png": "[encoded data removed]",
      "text/plain": [
       "<Figure size 1000x1000 with 1 Axes>"
      ]
     },
     "metadata": {},
     "output_type": "display_data"
    }
   ],
   "source": [
    "sns.barplot(y=\"Light Intensity\", x=\"Weather Condition\",data= df[:100] , orient = \"vertical\")"
   ]
  },
  {
   "cell_type": "code",
   "execution_count": 14,
   "id": "e74f167d-1957-4f4e-a92e-8bbbf2e05400",
   "metadata": {},
   "outputs": [
    {
     "data": {
      "text/plain": [
       "<Axes: xlabel='Air-quality Condition', ylabel='Air Quality'>"
      ]
     },
     "execution_count": 14,
     "metadata": {},
     "output_type": "execute_result"
    },
    {
     "data": {
      "image/png": "[encoded data removed]",
      "text/plain": [
       "<Figure size 1000x1000 with 1 Axes>"
      ]
     },
     "metadata": {},
     "output_type": "display_data"
    }
   ],
   "source": [
    "sns.barplot(y=\"Air Quality\", x=\"Air-quality Condition\",data= df[:100] , orient = \"vertical\")"
   ]
  },
  {
   "cell_type": "code",
   "execution_count": 15,
   "id": "bb6d2176-adf2-45eb-8834-3cb9cc901d87",
   "metadata": {},
   "outputs": [
    {
     "data": {
      "text/html": [
       "<div>\n",
       "<style scoped>\n",
       "    .dataframe tbody tr th:only-of-type {\n",
       "        vertical-align: middle;\n",
       "    }\n",
       "\n",
       "    .dataframe tbody tr th {\n",
       "        vertical-align: top;\n",
       "    }\n",
       "\n",
       "    .dataframe thead th {\n",
       "        text-align: right;\n",
       "    }\n",
       "</style>\n",
       "<table border=\"1\" class=\"dataframe\">\n",
       "  <thead>\n",
       "    <tr style=\"text-align: right;\">\n",
       "      <th></th>\n",
       "      <th>Temperature</th>\n",
       "      <th>Humidity</th>\n",
       "      <th>Light Intensity</th>\n",
       "      <th>Air Quality</th>\n",
       "      <th>Weather Condition</th>\n",
       "      <th>Air-quality Condition</th>\n",
       "      <th>Weather Condition_cat</th>\n",
       "      <th>Air-quality Condition_cat</th>\n",
       "    </tr>\n",
       "  </thead>\n",
       "  <tbody>\n",
       "    <tr>\n",
       "      <th>0</th>\n",
       "      <td>26.239883</td>\n",
       "      <td>53.166158</td>\n",
       "      <td>17262.31400</td>\n",
       "      <td>88.264016</td>\n",
       "      <td>Cloudy</td>\n",
       "      <td>Moderate</td>\n",
       "      <td>1</td>\n",
       "      <td>2</td>\n",
       "    </tr>\n",
       "    <tr>\n",
       "      <th>1</th>\n",
       "      <td>38.915715</td>\n",
       "      <td>87.671434</td>\n",
       "      <td>81642.89730</td>\n",
       "      <td>110.243105</td>\n",
       "      <td>Rainy</td>\n",
       "      <td>Unhealthy</td>\n",
       "      <td>2</td>\n",
       "      <td>3</td>\n",
       "    </tr>\n",
       "    <tr>\n",
       "      <th>2</th>\n",
       "      <td>34.103867</td>\n",
       "      <td>84.321039</td>\n",
       "      <td>66854.52485</td>\n",
       "      <td>93.219131</td>\n",
       "      <td>Rainy</td>\n",
       "      <td>Moderate</td>\n",
       "      <td>2</td>\n",
       "      <td>2</td>\n",
       "    </tr>\n",
       "    <tr>\n",
       "      <th>3</th>\n",
       "      <td>31.170487</td>\n",
       "      <td>41.747468</td>\n",
       "      <td>52783.47705</td>\n",
       "      <td>389.792237</td>\n",
       "      <td>Clear</td>\n",
       "      <td>Hazardous</td>\n",
       "      <td>0</td>\n",
       "      <td>1</td>\n",
       "    </tr>\n",
       "    <tr>\n",
       "      <th>4</th>\n",
       "      <td>21.432410</td>\n",
       "      <td>34.161678</td>\n",
       "      <td>36524.21793</td>\n",
       "      <td>175.062630</td>\n",
       "      <td>Cloudy</td>\n",
       "      <td>Very Unhealthy</td>\n",
       "      <td>1</td>\n",
       "      <td>4</td>\n",
       "    </tr>\n",
       "  </tbody>\n",
       "</table>\n",
       "</div>"
      ],
      "text/plain": [
       "   Temperature   Humidity  Light Intensity  Air Quality Weather Condition  \\\n",
       "0    26.239883  53.166158      17262.31400    88.264016            Cloudy   \n",
       "1    38.915715  87.671434      81642.89730   110.243105             Rainy   \n",
       "2    34.103867  84.321039      66854.52485    93.219131             Rainy   \n",
       "3    31.170487  41.747468      52783.47705   389.792237             Clear   \n",
       "4    21.432410  34.161678      36524.21793   175.062630            Cloudy   \n",
       "\n",
       "  Air-quality Condition  Weather Condition_cat  Air-quality Condition_cat  \n",
       "0              Moderate                      1                          2  \n",
       "1             Unhealthy                      2                          3  \n",
       "2              Moderate                      2                          2  \n",
       "3             Hazardous                      0                          1  \n",
       "4        Very Unhealthy                      1                          4  "
      ]
     },
     "execution_count": 15,
     "metadata": {},
     "output_type": "execute_result"
    }
   ],
   "source": [
    "# Label Encoding\n",
    "cat_features = [\"Weather Condition\",\"Air-quality Condition\"]\n",
    "\n",
    "for cat_feature in cat_features:\n",
    "    df[f\"{cat_feature}_cat\"] = df[cat_feature].astype('category')\n",
    "    df[f\"{cat_feature}_cat\"] = df[f\"{cat_feature}_cat\"].cat.codes\n",
    "\n",
    "df.head()"
   ]
  },
  {
   "cell_type": "code",
   "execution_count": 16,
   "id": "afd22ec7-cd4c-4395-a99a-1f4811794b74",
   "metadata": {},
   "outputs": [],
   "source": [
    "df.drop([\"Weather Condition\",\"Air-quality Condition\"], axis= 1, inplace =True)"
   ]
  },
  {
   "cell_type": "code",
   "execution_count": 17,
   "id": "57cb4604-76ff-409a-ac6b-64e327d4eb52",
   "metadata": {},
   "outputs": [],
   "source": [
    "X = df[['Temperature', 'Humidity', 'Light Intensity']]\n",
    "y = df[['Weather Condition_cat']]"
   ]
  },
  {
   "cell_type": "code",
   "execution_count": 18,
   "id": "2b7fd00e-29bc-4136-ab66-dff8f5b348d5",
   "metadata": {},
   "outputs": [],
   "source": [
    "sc = StandardScaler()"
   ]
  },
  {
   "cell_type": "code",
   "execution_count": 19,
   "id": "bd5c6ab6-efb7-40ec-b2a6-e802071e39cf",
   "metadata": {},
   "outputs": [
    {
     "data": {
      "text/html": [
       "<div>\n",
       "<style scoped>\n",
       "    .dataframe tbody tr th:only-of-type {\n",
       "        vertical-align: middle;\n",
       "    }\n",
       "\n",
       "    .dataframe tbody tr th {\n",
       "        vertical-align: top;\n",
       "    }\n",
       "\n",
       "    .dataframe thead th {\n",
       "        text-align: right;\n",
       "    }\n",
       "</style>\n",
       "<table border=\"1\" class=\"dataframe\">\n",
       "  <thead>\n",
       "    <tr style=\"text-align: right;\">\n",
       "      <th></th>\n",
       "      <th>Temperature</th>\n",
       "      <th>Humidity</th>\n",
       "      <th>Light Intensity</th>\n",
       "    </tr>\n",
       "  </thead>\n",
       "  <tbody>\n",
       "    <tr>\n",
       "      <th>0</th>\n",
       "      <td>-0.402540</td>\n",
       "      <td>-0.361526</td>\n",
       "      <td>-1.152062</td>\n",
       "    </tr>\n",
       "    <tr>\n",
       "      <th>1</th>\n",
       "      <td>1.579677</td>\n",
       "      <td>1.553996</td>\n",
       "      <td>1.090113</td>\n",
       "    </tr>\n",
       "    <tr>\n",
       "      <th>2</th>\n",
       "      <td>0.827212</td>\n",
       "      <td>1.368002</td>\n",
       "      <td>0.575080</td>\n",
       "    </tr>\n",
       "    <tr>\n",
       "      <th>3</th>\n",
       "      <td>0.368496</td>\n",
       "      <td>-0.995421</td>\n",
       "      <td>0.085030</td>\n",
       "    </tr>\n",
       "    <tr>\n",
       "      <th>4</th>\n",
       "      <td>-1.154321</td>\n",
       "      <td>-1.416538</td>\n",
       "      <td>-0.481230</td>\n",
       "    </tr>\n",
       "    <tr>\n",
       "      <th>...</th>\n",
       "      <td>...</td>\n",
       "      <td>...</td>\n",
       "      <td>...</td>\n",
       "    </tr>\n",
       "    <tr>\n",
       "      <th>360</th>\n",
       "      <td>-0.355649</td>\n",
       "      <td>1.156421</td>\n",
       "      <td>1.531981</td>\n",
       "    </tr>\n",
       "    <tr>\n",
       "      <th>361</th>\n",
       "      <td>0.522037</td>\n",
       "      <td>-1.182010</td>\n",
       "      <td>0.521464</td>\n",
       "    </tr>\n",
       "    <tr>\n",
       "      <th>362</th>\n",
       "      <td>-0.114542</td>\n",
       "      <td>1.001333</td>\n",
       "      <td>0.376965</td>\n",
       "    </tr>\n",
       "    <tr>\n",
       "      <th>363</th>\n",
       "      <td>0.186017</td>\n",
       "      <td>-0.975982</td>\n",
       "      <td>0.049251</td>\n",
       "    </tr>\n",
       "    <tr>\n",
       "      <th>364</th>\n",
       "      <td>1.547856</td>\n",
       "      <td>-1.102458</td>\n",
       "      <td>-0.923110</td>\n",
       "    </tr>\n",
       "  </tbody>\n",
       "</table>\n",
       "<p>365 rows × 3 columns</p>\n",
       "</div>"
      ],
      "text/plain": [
       "     Temperature  Humidity  Light Intensity\n",
       "0      -0.402540 -0.361526        -1.152062\n",
       "1       1.579677  1.553996         1.090113\n",
       "2       0.827212  1.368002         0.575080\n",
       "3       0.368496 -0.995421         0.085030\n",
       "4      -1.154321 -1.416538        -0.481230\n",
       "..           ...       ...              ...\n",
       "360    -0.355649  1.156421         1.531981\n",
       "361     0.522037 -1.182010         0.521464\n",
       "362    -0.114542  1.001333         0.376965\n",
       "363     0.186017 -0.975982         0.049251\n",
       "364     1.547856 -1.102458        -0.923110\n",
       "\n",
       "[365 rows x 3 columns]"
      ]
     },
     "execution_count": 19,
     "metadata": {},
     "output_type": "execute_result"
    }
   ],
   "source": [
    "X_normalize = pd.DataFrame(sc.fit_transform(X), columns = X.columns)\n",
    "X_normalize"
   ]
  },
  {
   "cell_type": "code",
   "execution_count": 20,
   "id": "653a038e-7887-4023-8f72-ff7f39062baa",
   "metadata": {},
   "outputs": [
    {
     "data": {
      "text/plain": [
       "(365, 3)"
      ]
     },
     "execution_count": 20,
     "metadata": {},
     "output_type": "execute_result"
    }
   ],
   "source": [
    "X.shape"
   ]
  },
  {
   "cell_type": "code",
   "execution_count": 21,
   "id": "7727d8f1-b2be-4bb5-9c29-40330393d68f",
   "metadata": {},
   "outputs": [],
   "source": [
    "X_df_train, X_df_test, y_df_train, y_df_test = train_test_split(X_normalize, y, test_size=0.2, stratify=y, random_state= 42)"
   ]
  },
  {
   "cell_type": "code",
   "execution_count": 22,
   "id": "0e81e938-2297-4033-9c4d-3740f9dca60e",
   "metadata": {},
   "outputs": [
    {
     "data": {
      "text/plain": [
       "Weather Condition_cat\n",
       "1                        0.530822\n",
       "2                        0.339041\n",
       "0                        0.130137\n",
       "Name: proportion, dtype: float64"
      ]
     },
     "execution_count": 22,
     "metadata": {},
     "output_type": "execute_result"
    }
   ],
   "source": [
    "y_df_train.value_counts(normalize=True)"
   ]
  },
  {
   "cell_type": "code",
   "execution_count": 23,
   "id": "da9611d8-c2dd-4fa7-908e-41a7ec59a221",
   "metadata": {},
   "outputs": [
    {
     "data": {
      "text/plain": [
       "Weather Condition_cat\n",
       "1                        0.534247\n",
       "2                        0.342466\n",
       "0                        0.123288\n",
       "Name: proportion, dtype: float64"
      ]
     },
     "execution_count": 23,
     "metadata": {},
     "output_type": "execute_result"
    }
   ],
   "source": [
    "y_df_test.value_counts(normalize=True)"
   ]
  },
  {
   "cell_type": "code",
   "execution_count": 51,
   "id": "83db8727-c321-4210-90e9-7d6088ad83f0",
   "metadata": {},
   "outputs": [
    {
     "name": "stderr",
     "output_type": "stream",
     "text": [
      "/var/folders/ws/503klr8x1mg50ln159bwt6k80000gp/T/ipykernel_3645/370725482.py:3: DataConversionWarning: A column-vector y was passed when a 1d array was expected. Please change the shape of y to (n_samples,), for example using ravel().\n",
      "  clf.fit(X_df_train[:1000], y_df_train[:1000])\n",
      "[Parallel(n_jobs=1)]: Using backend SequentialBackend with 1 concurrent workers.\n",
      "[Parallel(n_jobs=1)]: Done   1 out of   1 | elapsed:    0.0s remaining:    0.0s\n",
      "[Parallel(n_jobs=1)]: Done   2 out of   2 | elapsed:    0.0s remaining:    0.0s\n"
     ]
    },
    {
     "name": "stdout",
     "output_type": "stream",
     "text": [
      "building tree 1 of 42\n",
      "building tree 2 of 42\n",
      "building tree 3 of 42\n",
      "building tree 4 of 42\n",
      "building tree 5 of 42\n",
      "building tree 6 of 42\n",
      "building tree 7 of 42\n",
      "building tree 8 of 42\n",
      "building tree 9 of 42\n",
      "building tree 10 of 42\n",
      "building tree 11 of 42\n",
      "building tree 12 of 42\n",
      "building tree 13 of 42\n",
      "building tree 14 of 42\n",
      "building tree 15 of 42\n",
      "building tree 16 of 42\n",
      "building tree 17 of 42\n",
      "building tree 18 of 42\n",
      "building tree 19 of 42\n",
      "building tree 20 of 42\n",
      "building tree 21 of 42\n",
      "building tree 22 of 42\n",
      "building tree 23 of 42\n",
      "building tree 24 of 42\n",
      "building tree 25 of 42\n",
      "building tree 26 of 42\n",
      "building tree 27 of 42\n",
      "building tree 28 of 42\n",
      "building tree 29 of 42\n",
      "building tree 30 of 42\n",
      "building tree 31 of 42\n",
      "building tree 32 of 42\n",
      "building tree 33 of 42\n",
      "building tree 34 of 42\n",
      "building tree 35 of 42\n",
      "building tree 36 of 42\n",
      "building tree 37 of 42\n",
      "building tree 38 of 42\n",
      "building tree 39 of 42\n",
      "building tree 40 of 42\n",
      "building tree 41 of 42\n",
      "building tree 42 of 42\n"
     ]
    },
    {
     "name": "stderr",
     "output_type": "stream",
     "text": [
      "[Parallel(n_jobs=1)]: Done  42 out of  42 | elapsed:    0.7s finished\n"
     ]
    },
    {
     "data": {
      "text/html": [
       "<style>#sk-container-id-3 {color: black;background-color: white;}#sk-container-id-3 pre{padding: 0;}#sk-container-id-3 div.sk-toggleable {background-color: white;}#sk-container-id-3 label.sk-toggleable__label {cursor: pointer;display: block;width: 100%;margin-bottom: 0;padding: 0.3em;box-sizing: border-box;text-align: center;}#sk-container-id-3 label.sk-toggleable__label-arrow:before {content: \"▸\";float: left;margin-right: 0.25em;color: #696969;}#sk-container-id-3 label.sk-toggleable__label-arrow:hover:before {color: black;}#sk-container-id-3 div.sk-estimator:hover label.sk-toggleable__label-arrow:before {color: black;}#sk-container-id-3 div.sk-toggleable__content {max-height: 0;max-width: 0;overflow: hidden;text-align: left;background-color: #f0f8ff;}#sk-container-id-3 div.sk-toggleable__content pre {margin: 0.2em;color: black;border-radius: 0.25em;background-color: #f0f8ff;}#sk-container-id-3 input.sk-toggleable__control:checked~div.sk-toggleable__content {max-height: 200px;max-width: 100%;overflow: auto;}#sk-container-id-3 input.sk-toggleable__control:checked~label.sk-toggleable__label-arrow:before {content: \"▾\";}#sk-container-id-3 div.sk-estimator input.sk-toggleable__control:checked~label.sk-toggleable__label {background-color: #d4ebff;}#sk-container-id-3 div.sk-label input.sk-toggleable__control:checked~label.sk-toggleable__label {background-color: #d4ebff;}#sk-container-id-3 input.sk-hidden--visually {border: 0;clip: rect(1px 1px 1px 1px);clip: rect(1px, 1px, 1px, 1px);height: 1px;margin: -1px;overflow: hidden;padding: 0;position: absolute;width: 1px;}#sk-container-id-3 div.sk-estimator {font-family: monospace;background-color: #f0f8ff;border: 1px dotted black;border-radius: 0.25em;box-sizing: border-box;margin-bottom: 0.5em;}#sk-container-id-3 div.sk-estimator:hover {background-color: #d4ebff;}#sk-container-id-3 div.sk-parallel-item::after {content: \"\";width: 100%;border-bottom: 1px solid gray;flex-grow: 1;}#sk-container-id-3 div.sk-label:hover label.sk-toggleable__label {background-color: #d4ebff;}#sk-container-id-3 div.sk-serial::before {content: \"\";position: absolute;border-left: 1px solid gray;box-sizing: border-box;top: 0;bottom: 0;left: 50%;z-index: 0;}#sk-container-id-3 div.sk-serial {display: flex;flex-direction: column;align-items: center;background-color: white;padding-right: 0.2em;padding-left: 0.2em;position: relative;}#sk-container-id-3 div.sk-item {position: relative;z-index: 1;}#sk-container-id-3 div.sk-parallel {display: flex;align-items: stretch;justify-content: center;background-color: white;position: relative;}#sk-container-id-3 div.sk-item::before, #sk-container-id-3 div.sk-parallel-item::before {content: \"\";position: absolute;border-left: 1px solid gray;box-sizing: border-box;top: 0;bottom: 0;left: 50%;z-index: -1;}#sk-container-id-3 div.sk-parallel-item {display: flex;flex-direction: column;z-index: 1;position: relative;background-color: white;}#sk-container-id-3 div.sk-parallel-item:first-child::after {align-self: flex-end;width: 50%;}#sk-container-id-3 div.sk-parallel-item:last-child::after {align-self: flex-start;width: 50%;}#sk-container-id-3 div.sk-parallel-item:only-child::after {width: 0;}#sk-container-id-3 div.sk-dashed-wrapped {border: 1px dashed gray;margin: 0 0.4em 0.5em 0.4em;box-sizing: border-box;padding-bottom: 0.4em;background-color: white;}#sk-container-id-3 div.sk-label label {font-family: monospace;font-weight: bold;display: inline-block;line-height: 1.2em;}#sk-container-id-3 div.sk-label-container {text-align: center;}#sk-container-id-3 div.sk-container {/* jupyter's `normalize.less` sets `[hidden] { display: none; }` but bootstrap.min.css set `[hidden] { display: none !important; }` so we also need the `!important` here to be able to override the default hidden behavior on the sphinx rendered scikit-learn.org. See: https://github.com/scikit-learn/scikit-learn/issues/21755 */display: inline-block !important;position: relative;}#sk-container-id-3 div.sk-text-repr-fallback {display: none;}</style><div id=\"sk-container-id-3\" class=\"sk-top-container\"><div class=\"sk-text-repr-fallback\"><pre>RandomForestClassifier(n_estimators=42, random_state=42, verbose=3)</pre><b>In a Jupyter environment, please rerun this cell to show the HTML representation or trust the notebook. <br />On GitHub, the HTML representation is unable to render, please try loading this page with nbviewer.org.</b></div><div class=\"sk-container\" hidden><div class=\"sk-item\"><div class=\"sk-estimator sk-toggleable\"><input class=\"sk-toggleable__control sk-hidden--visually\" id=\"sk-estimator-id-3\" type=\"checkbox\" checked><label for=\"sk-estimator-id-3\" class=\"sk-toggleable__label sk-toggleable__label-arrow\">RandomForestClassifier</label><div class=\"sk-toggleable__content\"><pre>RandomForestClassifier(n_estimators=42, random_state=42, verbose=3)</pre></div></div></div></div></div>"
      ],
      "text/plain": [
       "RandomForestClassifier(n_estimators=42, random_state=42, verbose=3)"
      ]
     },
     "execution_count": 51,
     "metadata": {},
     "output_type": "execute_result"
    }
   ],
   "source": [
    "from sklearn.ensemble import RandomForestClassifier\n",
    "clf = RandomForestClassifier(verbose=3,random_state=42,n_estimators=42)\n",
    "clf.fit(X_df_train[:1000], y_df_train[:1000])"
   ]
  },
  {
   "cell_type": "code",
   "execution_count": 53,
   "id": "4b4ec2c1-4297-4014-8445-ffaaa1955c94",
   "metadata": {},
   "outputs": [
    {
     "name": "stderr",
     "output_type": "stream",
     "text": [
      "[Parallel(n_jobs=1)]: Using backend SequentialBackend with 1 concurrent workers.\n",
      "[Parallel(n_jobs=1)]: Done   1 out of   1 | elapsed:    0.0s remaining:    0.0s\n",
      "[Parallel(n_jobs=1)]: Done   2 out of   2 | elapsed:    0.0s remaining:    0.0s\n",
      "[Parallel(n_jobs=1)]: Done  42 out of  42 | elapsed:    0.0s finished\n"
     ]
    },
    {
     "data": {
      "text/plain": [
       "array([0, 2, 1, 1, 2, 2, 2, 1, 0, 2, 2, 2, 1, 2, 1, 1, 1, 2, 1, 1, 2, 1,\n",
       "       1, 1, 1, 1, 2, 1, 1, 1, 2, 1, 1, 1, 0, 2, 1, 1, 1, 0, 1, 0, 1, 0,\n",
       "       1, 1, 2, 1, 1, 2, 1, 1, 2, 1, 0, 1, 2, 1, 2, 1, 1, 2, 2, 2, 2, 2,\n",
       "       2, 1, 0, 1, 1, 2, 1], dtype=int8)"
      ]
     },
     "execution_count": 53,
     "metadata": {},
     "output_type": "execute_result"
    }
   ],
   "source": [
    "y_pred = clf.predict(X_df_test)\n",
    "y_pred"
   ]
  },
  {
   "cell_type": "code",
   "execution_count": 55,
   "id": "3d7bf5bb-545b-48ee-ba44-5f4cb405f0a3",
   "metadata": {},
   "outputs": [
    {
     "name": "stdout",
     "output_type": "stream",
     "text": [
      "F1_score 0.985985169167372\n",
      "accuracy 0.9863013698630136\n"
     ]
    },
    {
     "name": "stderr",
     "output_type": "stream",
     "text": [
      "[Parallel(n_jobs=1)]: Using backend SequentialBackend with 1 concurrent workers.\n",
      "[Parallel(n_jobs=1)]: Done   1 out of   1 | elapsed:    0.0s remaining:    0.0s\n",
      "[Parallel(n_jobs=1)]: Done   2 out of   2 | elapsed:    0.0s remaining:    0.0s\n",
      "[Parallel(n_jobs=1)]: Done  42 out of  42 | elapsed:    0.0s finished\n"
     ]
    }
   ],
   "source": [
    "from sklearn.metrics import f1_score, accuracy_score\n",
    "\n",
    "# we are using f1_score because \n",
    "# this is a classification model\n",
    "\n",
    "y_pred = clf.predict(X_df_test)\n",
    "\n",
    "print(\"F1_score\", f1_score(y_df_test,y_pred, average='weighted'))\n",
    "print(\"accuracy\" , accuracy_score(y_df_test,y_pred))"
   ]
  },
  {
   "cell_type": "code",
   "execution_count": 64,
   "id": "0edf51a4-1a65-470b-ada9-442e4acc3803",
   "metadata": {},
   "outputs": [
    {
     "name": "stdout",
     "output_type": "stream",
     "text": [
      "F1_score 0.8592333592333592\n",
      "accuracy 0.8904109589041096\n"
     ]
    },
    {
     "name": "stderr",
     "output_type": "stream",
     "text": [
      "/opt/anaconda3/lib/python3.11/site-packages/sklearn/utils/validation.py:1143: DataConversionWarning: A column-vector y was passed when a 1d array was expected. Please change the shape of y to (n_samples, ), for example using ravel().\n",
      "  y = column_or_1d(y, warn=True)\n"
     ]
    }
   ],
   "source": [
    "from sklearn.linear_model import LogisticRegression\n",
    "\n",
    "clf = LogisticRegression(random_state=42, class_weight=\"balanced\")\n",
    "clf.fit(X_df_train[:100], y_df_train[:100])\n",
    "\n",
    "from sklearn.metrics import f1_score, accuracy_score\n",
    "\n",
    "# we are using f1_score because \n",
    "# this is a classification model\n",
    "\n",
    "y_pred = clf.predict(X_df_test)\n",
    "\n",
    "print(\"F1_score\", f1_score(y_df_test,y_pred, average='macro'))\n",
    "print(\"accuracy\" , accuracy_score(y_df_test,y_pred))"
   ]
  },
  {
   "cell_type": "code",
   "execution_count": 70,
   "id": "017cca36-29ca-4fa1-9aea-ac1b317cf47f",
   "metadata": {},
   "outputs": [
    {
     "data": {
      "text/html": [
       "<div>\n",
       "<style scoped>\n",
       "    .dataframe tbody tr th:only-of-type {\n",
       "        vertical-align: middle;\n",
       "    }\n",
       "\n",
       "    .dataframe tbody tr th {\n",
       "        vertical-align: top;\n",
       "    }\n",
       "\n",
       "    .dataframe thead th {\n",
       "        text-align: right;\n",
       "    }\n",
       "</style>\n",
       "<table border=\"1\" class=\"dataframe\">\n",
       "  <thead>\n",
       "    <tr style=\"text-align: right;\">\n",
       "      <th></th>\n",
       "      <th>Models</th>\n",
       "      <th>F1 score</th>\n",
       "      <th>Accuracy</th>\n",
       "    </tr>\n",
       "  </thead>\n",
       "  <tbody>\n",
       "    <tr>\n",
       "      <th>0</th>\n",
       "      <td>LogisticRegression</td>\n",
       "      <td>0.859</td>\n",
       "      <td>0.890</td>\n",
       "    </tr>\n",
       "    <tr>\n",
       "      <th>1</th>\n",
       "      <td>RandomForestClassifier</td>\n",
       "      <td>0.985</td>\n",
       "      <td>0.986</td>\n",
       "    </tr>\n",
       "  </tbody>\n",
       "</table>\n",
       "</div>"
      ],
      "text/plain": [
       "                   Models  F1 score  Accuracy\n",
       "0      LogisticRegression     0.859     0.890\n",
       "1  RandomForestClassifier     0.985     0.986"
      ]
     },
     "execution_count": 70,
     "metadata": {},
     "output_type": "execute_result"
    }
   ],
   "source": [
    "data = {\"Models\":[ 'LogisticRegression', 'RandomForestClassifier'], \"F1 score\":[0.859,0.985], \"Accuracy\":[0.890,0.986]}\n",
    "\n",
    "df = pd.DataFrame(data)\n",
    "df"
   ]
  },
  {
   "cell_type": "code",
   "execution_count": null,
   "id": "588b33b6-e136-4772-98e6-5c3df14018cd",
   "metadata": {},
   "outputs": [],
   "source": []
  }
 ],
 "metadata": {
  "kernelspec": {
   "display_name": "Python 3 (ipykernel)",
   "language": "python",
   "name": "python3"
  },
  "language_info": {
   "codemirror_mode": {
    "name": "ipython",
    "version": 3
   },
   "file_extension": ".py",
   "mimetype": "text/x-python",
   "name": "python",
   "nbconvert_exporter": "python",
   "pygments_lexer": "ipython3",
   "version": "3.11.7"
  },
  "widgets": {
   "application/vnd.jupyter.widget-state+json": {
    "state": {},
    "version_major": 2,
    "version_minor": 0
   }
  }
 },
 "nbformat": 4,
 "nbformat_minor": 5
}
