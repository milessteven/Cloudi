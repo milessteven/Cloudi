{
 "cells": [
  {
   "cell_type": "code",
   "execution_count": 1,
   "id": "abddb9e4-046c-4f80-aeb3-e70848e2c00e",
   "metadata": {},
   "outputs": [],
   "source": [
    "# importation of libaries\n",
    "import pandas as pd\n",
    "import numpy as np\n",
    "import sklearn\n",
    "\n",
    "import matplotlib.pyplot as plt\n",
    "%matplotlib inline\n",
    "import seaborn as sns\n",
    "sns.set()\n",
    "sns.set(style=\"darkgrid\")\n",
    "plt.rcParams['figure.figsize']=(10,10)\n",
    "\n",
    "from sklearn.preprocessing import StandardScaler\n",
    "from sklearn.preprocessing import LabelEncoder\n",
    "from sklearn.preprocessing import MinMaxScaler\n",
    "from sklearn.model_selection import train_test_split"
   ]
  },
  {
   "cell_type": "code",
   "execution_count": 2,
   "id": "33726ce0-313b-4ab3-9aee-713be36808ce",
   "metadata": {},
   "outputs": [
    {
     "data": {
      "text/html": [
       "<div>\n",
       "<style scoped>\n",
       "    .dataframe tbody tr th:only-of-type {\n",
       "        vertical-align: middle;\n",
       "    }\n",
       "\n",
       "    .dataframe tbody tr th {\n",
       "        vertical-align: top;\n",
       "    }\n",
       "\n",
       "    .dataframe thead th {\n",
       "        text-align: right;\n",
       "    }\n",
       "</style>\n",
       "<table border=\"1\" class=\"dataframe\">\n",
       "  <thead>\n",
       "    <tr style=\"text-align: right;\">\n",
       "      <th></th>\n",
       "      <th>DateTime</th>\n",
       "      <th>Temperature</th>\n",
       "      <th>Humidity</th>\n",
       "      <th>Light Intensity</th>\n",
       "      <th>Air Quality</th>\n",
       "      <th>Weather Condition</th>\n",
       "      <th>Air-quality Condition</th>\n",
       "    </tr>\n",
       "  </thead>\n",
       "  <tbody>\n",
       "    <tr>\n",
       "      <th>0</th>\n",
       "      <td>01/01/2022 00:00</td>\n",
       "      <td>30.0</td>\n",
       "      <td>90.6</td>\n",
       "      <td>1000.0</td>\n",
       "      <td>68.3</td>\n",
       "      <td>Rainy</td>\n",
       "      <td>Hazardous</td>\n",
       "    </tr>\n",
       "    <tr>\n",
       "      <th>1</th>\n",
       "      <td>01/01/2022 00:05</td>\n",
       "      <td>27.4</td>\n",
       "      <td>74.1</td>\n",
       "      <td>470.4</td>\n",
       "      <td>48.9</td>\n",
       "      <td>Rainy</td>\n",
       "      <td>Good</td>\n",
       "    </tr>\n",
       "    <tr>\n",
       "      <th>2</th>\n",
       "      <td>01/01/2022 00:10</td>\n",
       "      <td>30.6</td>\n",
       "      <td>61.7</td>\n",
       "      <td>153.6</td>\n",
       "      <td>42.7</td>\n",
       "      <td>Rainy</td>\n",
       "      <td>Good</td>\n",
       "    </tr>\n",
       "    <tr>\n",
       "      <th>3</th>\n",
       "      <td>01/01/2022 00:15</td>\n",
       "      <td>34.1</td>\n",
       "      <td>61.1</td>\n",
       "      <td>603.0</td>\n",
       "      <td>46.4</td>\n",
       "      <td>Rainy</td>\n",
       "      <td>Good</td>\n",
       "    </tr>\n",
       "    <tr>\n",
       "      <th>4</th>\n",
       "      <td>01/01/2022 00:20</td>\n",
       "      <td>27.1</td>\n",
       "      <td>71.6</td>\n",
       "      <td>487.3</td>\n",
       "      <td>64.4</td>\n",
       "      <td>Rainy</td>\n",
       "      <td>Hazardous</td>\n",
       "    </tr>\n",
       "    <tr>\n",
       "      <th>5</th>\n",
       "      <td>01/01/2022 00:25</td>\n",
       "      <td>27.1</td>\n",
       "      <td>59.2</td>\n",
       "      <td>531.5</td>\n",
       "      <td>57.8</td>\n",
       "      <td>Clear</td>\n",
       "      <td>Hazardous</td>\n",
       "    </tr>\n",
       "    <tr>\n",
       "      <th>6</th>\n",
       "      <td>01/01/2022 00:30</td>\n",
       "      <td>34.3</td>\n",
       "      <td>80.9</td>\n",
       "      <td>530.5</td>\n",
       "      <td>56.8</td>\n",
       "      <td>Rainy</td>\n",
       "      <td>Hazardous</td>\n",
       "    </tr>\n",
       "    <tr>\n",
       "      <th>7</th>\n",
       "      <td>01/01/2022 00:35</td>\n",
       "      <td>31.1</td>\n",
       "      <td>77.0</td>\n",
       "      <td>624.1</td>\n",
       "      <td>43.6</td>\n",
       "      <td>Rainy</td>\n",
       "      <td>Good</td>\n",
       "    </tr>\n",
       "    <tr>\n",
       "      <th>8</th>\n",
       "      <td>01/01/2022 00:40</td>\n",
       "      <td>26.1</td>\n",
       "      <td>75.5</td>\n",
       "      <td>239.9</td>\n",
       "      <td>55.9</td>\n",
       "      <td>Rainy</td>\n",
       "      <td>Hazardous</td>\n",
       "    </tr>\n",
       "    <tr>\n",
       "      <th>9</th>\n",
       "      <td>01/01/2022 00:45</td>\n",
       "      <td>30.2</td>\n",
       "      <td>68.8</td>\n",
       "      <td>712.3</td>\n",
       "      <td>56.9</td>\n",
       "      <td>Rainy</td>\n",
       "      <td>Hazardous</td>\n",
       "    </tr>\n",
       "  </tbody>\n",
       "</table>\n",
       "</div>"
      ],
      "text/plain": [
       "           DateTime  Temperature  Humidity  Light Intensity  Air Quality  \\\n",
       "0  01/01/2022 00:00         30.0      90.6           1000.0         68.3   \n",
       "1  01/01/2022 00:05         27.4      74.1            470.4         48.9   \n",
       "2  01/01/2022 00:10         30.6      61.7            153.6         42.7   \n",
       "3  01/01/2022 00:15         34.1      61.1            603.0         46.4   \n",
       "4  01/01/2022 00:20         27.1      71.6            487.3         64.4   \n",
       "5  01/01/2022 00:25         27.1      59.2            531.5         57.8   \n",
       "6  01/01/2022 00:30         34.3      80.9            530.5         56.8   \n",
       "7  01/01/2022 00:35         31.1      77.0            624.1         43.6   \n",
       "8  01/01/2022 00:40         26.1      75.5            239.9         55.9   \n",
       "9  01/01/2022 00:45         30.2      68.8            712.3         56.9   \n",
       "\n",
       "  Weather Condition Air-quality Condition  \n",
       "0             Rainy             Hazardous  \n",
       "1             Rainy                  Good  \n",
       "2             Rainy                  Good  \n",
       "3             Rainy                  Good  \n",
       "4             Rainy             Hazardous  \n",
       "5             Clear             Hazardous  \n",
       "6             Rainy             Hazardous  \n",
       "7             Rainy                  Good  \n",
       "8             Rainy             Hazardous  \n",
       "9             Rainy             Hazardous  "
      ]
     },
     "execution_count": 2,
     "metadata": {},
     "output_type": "execute_result"
    }
   ],
   "source": [
    "# display of dataset\n",
    "df = pd.read_csv(\"weather_data.csv\")\n",
    "df.head(10)"
   ]
  },
  {
   "cell_type": "code",
   "execution_count": 3,
   "id": "a7a2925e-7e76-45a7-be32-0776e5dd1e77",
   "metadata": {},
   "outputs": [
    {
     "name": "stdout",
     "output_type": "stream",
     "text": [
      "<class 'pandas.core.frame.DataFrame'>\n",
      "RangeIndex: 200000 entries, 0 to 199999\n",
      "Data columns (total 7 columns):\n",
      " #   Column                 Non-Null Count   Dtype  \n",
      "---  ------                 --------------   -----  \n",
      " 0   DateTime               200000 non-null  object \n",
      " 1   Temperature            200000 non-null  float64\n",
      " 2   Humidity               200000 non-null  float64\n",
      " 3   Light Intensity        200000 non-null  float64\n",
      " 4   Air Quality            200000 non-null  float64\n",
      " 5   Weather Condition      200000 non-null  object \n",
      " 6   Air-quality Condition  200000 non-null  object \n",
      "dtypes: float64(4), object(3)\n",
      "memory usage: 10.7+ MB\n"
     ]
    }
   ],
   "source": [
    "df.info() # check information"
   ]
  },
  {
   "cell_type": "code",
   "execution_count": 4,
   "id": "a8abc47c-9e51-45b9-b62f-240ae10b06cd",
   "metadata": {},
   "outputs": [
    {
     "data": {
      "text/plain": [
       "DateTime                 0\n",
       "Temperature              0\n",
       "Humidity                 0\n",
       "Light Intensity          0\n",
       "Air Quality              0\n",
       "Weather Condition        0\n",
       "Air-quality Condition    0\n",
       "dtype: int64"
      ]
     },
     "execution_count": 4,
     "metadata": {},
     "output_type": "execute_result"
    }
   ],
   "source": [
    "df.isna().sum() # checking missing values"
   ]
  },
  {
   "cell_type": "code",
   "execution_count": 5,
   "id": "b38a7922-49e6-41b2-b466-c6193f27f708",
   "metadata": {},
   "outputs": [
    {
     "data": {
      "text/html": [
       "<div>\n",
       "<style scoped>\n",
       "    .dataframe tbody tr th:only-of-type {\n",
       "        vertical-align: middle;\n",
       "    }\n",
       "\n",
       "    .dataframe tbody tr th {\n",
       "        vertical-align: top;\n",
       "    }\n",
       "\n",
       "    .dataframe thead th {\n",
       "        text-align: right;\n",
       "    }\n",
       "</style>\n",
       "<table border=\"1\" class=\"dataframe\">\n",
       "  <thead>\n",
       "    <tr style=\"text-align: right;\">\n",
       "      <th></th>\n",
       "      <th>Temperature</th>\n",
       "      <th>Humidity</th>\n",
       "      <th>Light Intensity</th>\n",
       "      <th>Air Quality</th>\n",
       "    </tr>\n",
       "  </thead>\n",
       "  <tbody>\n",
       "    <tr>\n",
       "      <th>count</th>\n",
       "      <td>200000.000000</td>\n",
       "      <td>200000.000000</td>\n",
       "      <td>200000.000000</td>\n",
       "      <td>200000.000000</td>\n",
       "    </tr>\n",
       "    <tr>\n",
       "      <th>mean</th>\n",
       "      <td>28.010591</td>\n",
       "      <td>74.972482</td>\n",
       "      <td>499.119894</td>\n",
       "      <td>50.025963</td>\n",
       "    </tr>\n",
       "    <tr>\n",
       "      <th>std</th>\n",
       "      <td>3.973072</td>\n",
       "      <td>9.953205</td>\n",
       "      <td>198.028082</td>\n",
       "      <td>10.004487</td>\n",
       "    </tr>\n",
       "    <tr>\n",
       "      <th>min</th>\n",
       "      <td>18.000000</td>\n",
       "      <td>30.900000</td>\n",
       "      <td>0.000000</td>\n",
       "      <td>6.800000</td>\n",
       "    </tr>\n",
       "    <tr>\n",
       "      <th>25%</th>\n",
       "      <td>25.300000</td>\n",
       "      <td>68.200000</td>\n",
       "      <td>363.700000</td>\n",
       "      <td>43.300000</td>\n",
       "    </tr>\n",
       "    <tr>\n",
       "      <th>50%</th>\n",
       "      <td>28.000000</td>\n",
       "      <td>75.000000</td>\n",
       "      <td>499.200000</td>\n",
       "      <td>50.000000</td>\n",
       "    </tr>\n",
       "    <tr>\n",
       "      <th>75%</th>\n",
       "      <td>30.700000</td>\n",
       "      <td>81.700000</td>\n",
       "      <td>634.700000</td>\n",
       "      <td>56.800000</td>\n",
       "    </tr>\n",
       "    <tr>\n",
       "      <th>max</th>\n",
       "      <td>40.000000</td>\n",
       "      <td>100.000000</td>\n",
       "      <td>1000.000000</td>\n",
       "      <td>245.000000</td>\n",
       "    </tr>\n",
       "  </tbody>\n",
       "</table>\n",
       "</div>"
      ],
      "text/plain": [
       "         Temperature       Humidity  Light Intensity    Air Quality\n",
       "count  200000.000000  200000.000000    200000.000000  200000.000000\n",
       "mean       28.010591      74.972482       499.119894      50.025963\n",
       "std         3.973072       9.953205       198.028082      10.004487\n",
       "min        18.000000      30.900000         0.000000       6.800000\n",
       "25%        25.300000      68.200000       363.700000      43.300000\n",
       "50%        28.000000      75.000000       499.200000      50.000000\n",
       "75%        30.700000      81.700000       634.700000      56.800000\n",
       "max        40.000000     100.000000      1000.000000     245.000000"
      ]
     },
     "execution_count": 5,
     "metadata": {},
     "output_type": "execute_result"
    }
   ],
   "source": [
    "df.describe()  # checking statistics of data set"
   ]
  },
  {
   "cell_type": "code",
   "execution_count": 6,
   "id": "dfc2bbcd-6db3-4dc7-986e-1fea0ed6f43d",
   "metadata": {},
   "outputs": [],
   "source": [
    "import datetime \n",
    "df['DateTime'] = pd.to_datetime(df['DateTime'], format='%d/%m/%Y %H:%M')"
   ]
  },
  {
   "cell_type": "code",
   "execution_count": 7,
   "id": "82d764a2-65c8-4cc5-a81a-81512095ccb0",
   "metadata": {},
   "outputs": [
    {
     "name": "stdout",
     "output_type": "stream",
     "text": [
      "<class 'pandas.core.frame.DataFrame'>\n",
      "RangeIndex: 200000 entries, 0 to 199999\n",
      "Data columns (total 7 columns):\n",
      " #   Column                 Non-Null Count   Dtype         \n",
      "---  ------                 --------------   -----         \n",
      " 0   DateTime               200000 non-null  datetime64[ns]\n",
      " 1   Temperature            200000 non-null  float64       \n",
      " 2   Humidity               200000 non-null  float64       \n",
      " 3   Light Intensity        200000 non-null  float64       \n",
      " 4   Air Quality            200000 non-null  float64       \n",
      " 5   Weather Condition      200000 non-null  object        \n",
      " 6   Air-quality Condition  200000 non-null  object        \n",
      "dtypes: datetime64[ns](1), float64(4), object(2)\n",
      "memory usage: 10.7+ MB\n"
     ]
    }
   ],
   "source": [
    "df.info()"
   ]
  },
  {
   "cell_type": "code",
   "execution_count": 8,
   "id": "dc5048a9-044d-4f65-8ff7-ecbfdeed451d",
   "metadata": {},
   "outputs": [],
   "source": [
    "df['year'] = pd.to_datetime(df['DateTime']).dt.year\n",
    "df['month'] = pd.to_datetime(df['DateTime']).dt.month\n",
    "df['day'] = pd.to_datetime(df['DateTime']).dt.day"
   ]
  },
  {
   "cell_type": "code",
   "execution_count": 9,
   "id": "c8d88ae4-8b60-4173-8ad5-b4312c0d25a1",
   "metadata": {},
   "outputs": [
    {
     "data": {
      "text/html": [
       "<div>\n",
       "<style scoped>\n",
       "    .dataframe tbody tr th:only-of-type {\n",
       "        vertical-align: middle;\n",
       "    }\n",
       "\n",
       "    .dataframe tbody tr th {\n",
       "        vertical-align: top;\n",
       "    }\n",
       "\n",
       "    .dataframe thead th {\n",
       "        text-align: right;\n",
       "    }\n",
       "</style>\n",
       "<table border=\"1\" class=\"dataframe\">\n",
       "  <thead>\n",
       "    <tr style=\"text-align: right;\">\n",
       "      <th></th>\n",
       "      <th>DateTime</th>\n",
       "      <th>Temperature</th>\n",
       "      <th>Humidity</th>\n",
       "      <th>Light Intensity</th>\n",
       "      <th>Air Quality</th>\n",
       "      <th>Weather Condition</th>\n",
       "      <th>Air-quality Condition</th>\n",
       "      <th>year</th>\n",
       "      <th>month</th>\n",
       "      <th>day</th>\n",
       "    </tr>\n",
       "  </thead>\n",
       "  <tbody>\n",
       "    <tr>\n",
       "      <th>0</th>\n",
       "      <td>2022-01-01 00:00:00</td>\n",
       "      <td>30.0</td>\n",
       "      <td>90.6</td>\n",
       "      <td>1000.0</td>\n",
       "      <td>68.3</td>\n",
       "      <td>Rainy</td>\n",
       "      <td>Hazardous</td>\n",
       "      <td>2022</td>\n",
       "      <td>1</td>\n",
       "      <td>1</td>\n",
       "    </tr>\n",
       "    <tr>\n",
       "      <th>1</th>\n",
       "      <td>2022-01-01 00:05:00</td>\n",
       "      <td>27.4</td>\n",
       "      <td>74.1</td>\n",
       "      <td>470.4</td>\n",
       "      <td>48.9</td>\n",
       "      <td>Rainy</td>\n",
       "      <td>Good</td>\n",
       "      <td>2022</td>\n",
       "      <td>1</td>\n",
       "      <td>1</td>\n",
       "    </tr>\n",
       "    <tr>\n",
       "      <th>2</th>\n",
       "      <td>2022-01-01 00:10:00</td>\n",
       "      <td>30.6</td>\n",
       "      <td>61.7</td>\n",
       "      <td>153.6</td>\n",
       "      <td>42.7</td>\n",
       "      <td>Rainy</td>\n",
       "      <td>Good</td>\n",
       "      <td>2022</td>\n",
       "      <td>1</td>\n",
       "      <td>1</td>\n",
       "    </tr>\n",
       "    <tr>\n",
       "      <th>3</th>\n",
       "      <td>2022-01-01 00:15:00</td>\n",
       "      <td>34.1</td>\n",
       "      <td>61.1</td>\n",
       "      <td>603.0</td>\n",
       "      <td>46.4</td>\n",
       "      <td>Rainy</td>\n",
       "      <td>Good</td>\n",
       "      <td>2022</td>\n",
       "      <td>1</td>\n",
       "      <td>1</td>\n",
       "    </tr>\n",
       "    <tr>\n",
       "      <th>4</th>\n",
       "      <td>2022-01-01 00:20:00</td>\n",
       "      <td>27.1</td>\n",
       "      <td>71.6</td>\n",
       "      <td>487.3</td>\n",
       "      <td>64.4</td>\n",
       "      <td>Rainy</td>\n",
       "      <td>Hazardous</td>\n",
       "      <td>2022</td>\n",
       "      <td>1</td>\n",
       "      <td>1</td>\n",
       "    </tr>\n",
       "  </tbody>\n",
       "</table>\n",
       "</div>"
      ],
      "text/plain": [
       "             DateTime  Temperature  Humidity  Light Intensity  Air Quality  \\\n",
       "0 2022-01-01 00:00:00         30.0      90.6           1000.0         68.3   \n",
       "1 2022-01-01 00:05:00         27.4      74.1            470.4         48.9   \n",
       "2 2022-01-01 00:10:00         30.6      61.7            153.6         42.7   \n",
       "3 2022-01-01 00:15:00         34.1      61.1            603.0         46.4   \n",
       "4 2022-01-01 00:20:00         27.1      71.6            487.3         64.4   \n",
       "\n",
       "  Weather Condition Air-quality Condition  year  month  day  \n",
       "0             Rainy             Hazardous  2022      1    1  \n",
       "1             Rainy                  Good  2022      1    1  \n",
       "2             Rainy                  Good  2022      1    1  \n",
       "3             Rainy                  Good  2022      1    1  \n",
       "4             Rainy             Hazardous  2022      1    1  "
      ]
     },
     "execution_count": 9,
     "metadata": {},
     "output_type": "execute_result"
    }
   ],
   "source": [
    "df.head()"
   ]
  },
  {
   "cell_type": "code",
   "execution_count": 10,
   "id": "2a3e19d8-1630-424c-9474-6e8887c23582",
   "metadata": {},
   "outputs": [],
   "source": [
    "df.drop(['DateTime'],axis=1, inplace=True)"
   ]
  },
  {
   "cell_type": "code",
   "execution_count": 11,
   "id": "2bad3ad4-9b67-441c-a15d-c4330b58e5b6",
   "metadata": {},
   "outputs": [
    {
     "data": {
      "text/html": [
       "<div>\n",
       "<style scoped>\n",
       "    .dataframe tbody tr th:only-of-type {\n",
       "        vertical-align: middle;\n",
       "    }\n",
       "\n",
       "    .dataframe tbody tr th {\n",
       "        vertical-align: top;\n",
       "    }\n",
       "\n",
       "    .dataframe thead th {\n",
       "        text-align: right;\n",
       "    }\n",
       "</style>\n",
       "<table border=\"1\" class=\"dataframe\">\n",
       "  <thead>\n",
       "    <tr style=\"text-align: right;\">\n",
       "      <th></th>\n",
       "      <th>Temperature</th>\n",
       "      <th>Humidity</th>\n",
       "      <th>Light Intensity</th>\n",
       "      <th>Air Quality</th>\n",
       "      <th>Weather Condition</th>\n",
       "      <th>Air-quality Condition</th>\n",
       "      <th>year</th>\n",
       "      <th>month</th>\n",
       "      <th>day</th>\n",
       "    </tr>\n",
       "  </thead>\n",
       "  <tbody>\n",
       "    <tr>\n",
       "      <th>0</th>\n",
       "      <td>30.0</td>\n",
       "      <td>90.6</td>\n",
       "      <td>1000.0</td>\n",
       "      <td>68.3</td>\n",
       "      <td>Rainy</td>\n",
       "      <td>Hazardous</td>\n",
       "      <td>2022</td>\n",
       "      <td>1</td>\n",
       "      <td>1</td>\n",
       "    </tr>\n",
       "    <tr>\n",
       "      <th>1</th>\n",
       "      <td>27.4</td>\n",
       "      <td>74.1</td>\n",
       "      <td>470.4</td>\n",
       "      <td>48.9</td>\n",
       "      <td>Rainy</td>\n",
       "      <td>Good</td>\n",
       "      <td>2022</td>\n",
       "      <td>1</td>\n",
       "      <td>1</td>\n",
       "    </tr>\n",
       "    <tr>\n",
       "      <th>2</th>\n",
       "      <td>30.6</td>\n",
       "      <td>61.7</td>\n",
       "      <td>153.6</td>\n",
       "      <td>42.7</td>\n",
       "      <td>Rainy</td>\n",
       "      <td>Good</td>\n",
       "      <td>2022</td>\n",
       "      <td>1</td>\n",
       "      <td>1</td>\n",
       "    </tr>\n",
       "    <tr>\n",
       "      <th>3</th>\n",
       "      <td>34.1</td>\n",
       "      <td>61.1</td>\n",
       "      <td>603.0</td>\n",
       "      <td>46.4</td>\n",
       "      <td>Rainy</td>\n",
       "      <td>Good</td>\n",
       "      <td>2022</td>\n",
       "      <td>1</td>\n",
       "      <td>1</td>\n",
       "    </tr>\n",
       "    <tr>\n",
       "      <th>4</th>\n",
       "      <td>27.1</td>\n",
       "      <td>71.6</td>\n",
       "      <td>487.3</td>\n",
       "      <td>64.4</td>\n",
       "      <td>Rainy</td>\n",
       "      <td>Hazardous</td>\n",
       "      <td>2022</td>\n",
       "      <td>1</td>\n",
       "      <td>1</td>\n",
       "    </tr>\n",
       "  </tbody>\n",
       "</table>\n",
       "</div>"
      ],
      "text/plain": [
       "   Temperature  Humidity  Light Intensity  Air Quality Weather Condition  \\\n",
       "0         30.0      90.6           1000.0         68.3             Rainy   \n",
       "1         27.4      74.1            470.4         48.9             Rainy   \n",
       "2         30.6      61.7            153.6         42.7             Rainy   \n",
       "3         34.1      61.1            603.0         46.4             Rainy   \n",
       "4         27.1      71.6            487.3         64.4             Rainy   \n",
       "\n",
       "  Air-quality Condition  year  month  day  \n",
       "0             Hazardous  2022      1    1  \n",
       "1                  Good  2022      1    1  \n",
       "2                  Good  2022      1    1  \n",
       "3                  Good  2022      1    1  \n",
       "4             Hazardous  2022      1    1  "
      ]
     },
     "execution_count": 11,
     "metadata": {},
     "output_type": "execute_result"
    }
   ],
   "source": [
    "df.head()"
   ]
  },
  {
   "cell_type": "code",
   "execution_count": 12,
   "id": "184c5251-61dc-4b30-b9a2-149a450cd319",
   "metadata": {},
   "outputs": [
    {
     "name": "stdout",
     "output_type": "stream",
     "text": [
      "Non-numeric columns: Index(['Weather Condition', 'Air-quality Condition'], dtype='object')\n"
     ]
    },
    {
     "data": {
      "image/png": "[encoded data removed]",
      "text/plain": [
       "<Figure size 1000x900 with 2 Axes>"
      ]
     },
     "metadata": {},
     "output_type": "display_data"
    }
   ],
   "source": [
    "# Assuming df is your DataFrame\n",
    "# Identify non-numeric columns\n",
    "non_numeric_cols = df.select_dtypes(exclude=['number']).columns\n",
    "\n",
    "# Optionally, print non-numeric columns\n",
    "print(\"Non-numeric columns:\", non_numeric_cols)\n",
    "\n",
    "# Drop non-numeric columns\n",
    "df_numeric = df.drop(columns=non_numeric_cols)\n",
    "\n",
    "# Now you can calculate the correlation and plot the heatmap\n",
    "plt.figure(figsize=(10,9))\n",
    "sns.heatmap(df_numeric.corr(), annot=False)\n",
    "plt.show()"
   ]
  },
  {
   "cell_type": "code",
   "execution_count": 13,
   "id": "75c2ed3e-e8e3-4483-9d99-1eadc0250e53",
   "metadata": {},
   "outputs": [
    {
     "data": {
      "text/plain": [
       "<Axes: xlabel='Weather Condition', ylabel='Temperature'>"
      ]
     },
     "execution_count": 13,
     "metadata": {},
     "output_type": "execute_result"
    },
    {
     "data": {
      "image/png": "[encoded data removed]",
      "text/plain": [
       "<Figure size 1000x1000 with 1 Axes>"
      ]
     },
     "metadata": {},
     "output_type": "display_data"
    }
   ],
   "source": [
    "sns.barplot(y=\"Temperature\", x=\"Weather Condition\",data= df[:100] , orient = \"vertical\")"
   ]
  },
  {
   "cell_type": "code",
   "execution_count": 14,
   "id": "42cb58dd-3976-489f-b3ca-ab72e522525b",
   "metadata": {},
   "outputs": [
    {
     "data": {
      "text/plain": [
       "<Axes: xlabel='Weather Condition', ylabel='Humidity'>"
      ]
     },
     "execution_count": 14,
     "metadata": {},
     "output_type": "execute_result"
    },
    {
     "data": {
      "image/png": "[encoded data removed]",
      "text/plain": [
       "<Figure size 1000x1000 with 1 Axes>"
      ]
     },
     "metadata": {},
     "output_type": "display_data"
    }
   ],
   "source": [
    "sns.barplot(y=\"Humidity\", x=\"Weather Condition\",data= df[:100] , orient = \"vertical\")"
   ]
  },
  {
   "cell_type": "code",
   "execution_count": 15,
   "id": "109bce0d-d83a-4780-b1e4-31e2f8b0f56e",
   "metadata": {},
   "outputs": [
    {
     "data": {
      "text/plain": [
       "<Axes: xlabel='Weather Condition', ylabel='Light Intensity'>"
      ]
     },
     "execution_count": 15,
     "metadata": {},
     "output_type": "execute_result"
    },
    {
     "data": {
      "image/png": "[encoded data removed]",
      "text/plain": [
       "<Figure size 1000x1000 with 1 Axes>"
      ]
     },
     "metadata": {},
     "output_type": "display_data"
    }
   ],
   "source": [
    "sns.barplot(y=\"Light Intensity\", x=\"Weather Condition\",data= df[:100] , orient = \"vertical\")"
   ]
  },
  {
   "cell_type": "code",
   "execution_count": 16,
   "id": "e74f167d-1957-4f4e-a92e-8bbbf2e05400",
   "metadata": {},
   "outputs": [
    {
     "data": {
      "text/plain": [
       "<Axes: xlabel='Air-quality Condition', ylabel='Air Quality'>"
      ]
     },
     "execution_count": 16,
     "metadata": {},
     "output_type": "execute_result"
    },
    {
     "data": {
      "image/png": "[encoded data removed]",
      "text/plain": [
       "<Figure size 1000x1000 with 1 Axes>"
      ]
     },
     "metadata": {},
     "output_type": "display_data"
    }
   ],
   "source": [
    "sns.barplot(y=\"Air Quality\", x=\"Air-quality Condition\",data= df[:100] , orient = \"vertical\")"
   ]
  },
  {
   "cell_type": "code",
   "execution_count": 17,
   "id": "57cb4604-76ff-409a-ac6b-64e327d4eb52",
   "metadata": {},
   "outputs": [],
   "source": [
    "X = df[['Temperature', 'Humidity', 'Light Intensity']]\n",
    "y = df[['Weather Condition']]"
   ]
  },
  {
   "cell_type": "code",
   "execution_count": 18,
   "id": "2b7fd00e-29bc-4136-ab66-dff8f5b348d5",
   "metadata": {},
   "outputs": [],
   "source": [
    "sc = StandardScaler()"
   ]
  },
  {
   "cell_type": "code",
   "execution_count": 19,
   "id": "bd5c6ab6-efb7-40ec-b2a6-e802071e39cf",
   "metadata": {},
   "outputs": [
    {
     "data": {
      "text/html": [
       "<div>\n",
       "<style scoped>\n",
       "    .dataframe tbody tr th:only-of-type {\n",
       "        vertical-align: middle;\n",
       "    }\n",
       "\n",
       "    .dataframe tbody tr th {\n",
       "        vertical-align: top;\n",
       "    }\n",
       "\n",
       "    .dataframe thead th {\n",
       "        text-align: right;\n",
       "    }\n",
       "</style>\n",
       "<table border=\"1\" class=\"dataframe\">\n",
       "  <thead>\n",
       "    <tr style=\"text-align: right;\">\n",
       "      <th></th>\n",
       "      <th>Temperature</th>\n",
       "      <th>Humidity</th>\n",
       "      <th>Light Intensity</th>\n",
       "    </tr>\n",
       "  </thead>\n",
       "  <tbody>\n",
       "    <tr>\n",
       "      <th>0</th>\n",
       "      <td>0.500724</td>\n",
       "      <td>1.570103</td>\n",
       "      <td>2.529345</td>\n",
       "    </tr>\n",
       "    <tr>\n",
       "      <th>1</th>\n",
       "      <td>-0.153683</td>\n",
       "      <td>-0.087659</td>\n",
       "      <td>-0.145030</td>\n",
       "    </tr>\n",
       "    <tr>\n",
       "      <th>2</th>\n",
       "      <td>0.651741</td>\n",
       "      <td>-1.333492</td>\n",
       "      <td>-1.744807</td>\n",
       "    </tr>\n",
       "    <tr>\n",
       "      <th>3</th>\n",
       "      <td>1.532674</td>\n",
       "      <td>-1.393774</td>\n",
       "      <td>0.524574</td>\n",
       "    </tr>\n",
       "    <tr>\n",
       "      <th>4</th>\n",
       "      <td>-0.229191</td>\n",
       "      <td>-0.338835</td>\n",
       "      <td>-0.059688</td>\n",
       "    </tr>\n",
       "    <tr>\n",
       "      <th>...</th>\n",
       "      <td>...</td>\n",
       "      <td>...</td>\n",
       "      <td>...</td>\n",
       "    </tr>\n",
       "    <tr>\n",
       "      <th>199995</th>\n",
       "      <td>-1.286310</td>\n",
       "      <td>-0.549822</td>\n",
       "      <td>0.116045</td>\n",
       "    </tr>\n",
       "    <tr>\n",
       "      <th>199996</th>\n",
       "      <td>0.576233</td>\n",
       "      <td>-2.328149</td>\n",
       "      <td>-0.787365</td>\n",
       "    </tr>\n",
       "    <tr>\n",
       "      <th>199997</th>\n",
       "      <td>0.148351</td>\n",
       "      <td>0.836669</td>\n",
       "      <td>-0.146545</td>\n",
       "    </tr>\n",
       "    <tr>\n",
       "      <th>199998</th>\n",
       "      <td>0.853097</td>\n",
       "      <td>0.464929</td>\n",
       "      <td>-0.084937</td>\n",
       "    </tr>\n",
       "    <tr>\n",
       "      <th>199999</th>\n",
       "      <td>-1.084954</td>\n",
       "      <td>-0.137894</td>\n",
       "      <td>-0.033429</td>\n",
       "    </tr>\n",
       "  </tbody>\n",
       "</table>\n",
       "<p>200000 rows × 3 columns</p>\n",
       "</div>"
      ],
      "text/plain": [
       "        Temperature  Humidity  Light Intensity\n",
       "0          0.500724  1.570103         2.529345\n",
       "1         -0.153683 -0.087659        -0.145030\n",
       "2          0.651741 -1.333492        -1.744807\n",
       "3          1.532674 -1.393774         0.524574\n",
       "4         -0.229191 -0.338835        -0.059688\n",
       "...             ...       ...              ...\n",
       "199995    -1.286310 -0.549822         0.116045\n",
       "199996     0.576233 -2.328149        -0.787365\n",
       "199997     0.148351  0.836669        -0.146545\n",
       "199998     0.853097  0.464929        -0.084937\n",
       "199999    -1.084954 -0.137894        -0.033429\n",
       "\n",
       "[200000 rows x 3 columns]"
      ]
     },
     "execution_count": 19,
     "metadata": {},
     "output_type": "execute_result"
    }
   ],
   "source": [
    "X_df_normalize = pd.DataFrame(sc.fit_transform(X), columns = X.columns)\n",
    "X_df_normalize"
   ]
  },
  {
   "cell_type": "code",
   "execution_count": 24,
   "id": "686e52b5-831a-4bd5-a43d-8d21cc0bdd59",
   "metadata": {},
   "outputs": [],
   "source": [
    "sc = MinMaxScaler()\n",
    "X_scaled = sc.fit_transform(X)"
   ]
  },
  {
   "cell_type": "code",
   "execution_count": 27,
   "id": "3b32622f-85e1-4cb5-bc8a-6c06fe89f687",
   "metadata": {},
   "outputs": [
    {
     "data": {
      "text/html": [
       "<div>\n",
       "<style scoped>\n",
       "    .dataframe tbody tr th:only-of-type {\n",
       "        vertical-align: middle;\n",
       "    }\n",
       "\n",
       "    .dataframe tbody tr th {\n",
       "        vertical-align: top;\n",
       "    }\n",
       "\n",
       "    .dataframe thead th {\n",
       "        text-align: right;\n",
       "    }\n",
       "</style>\n",
       "<table border=\"1\" class=\"dataframe\">\n",
       "  <thead>\n",
       "    <tr style=\"text-align: right;\">\n",
       "      <th></th>\n",
       "      <th>Temperature</th>\n",
       "      <th>Humidity</th>\n",
       "      <th>Light Intensity</th>\n",
       "    </tr>\n",
       "  </thead>\n",
       "  <tbody>\n",
       "    <tr>\n",
       "      <th>0</th>\n",
       "      <td>0.545455</td>\n",
       "      <td>0.863965</td>\n",
       "      <td>1.0000</td>\n",
       "    </tr>\n",
       "    <tr>\n",
       "      <th>1</th>\n",
       "      <td>0.427273</td>\n",
       "      <td>0.625181</td>\n",
       "      <td>0.4704</td>\n",
       "    </tr>\n",
       "    <tr>\n",
       "      <th>2</th>\n",
       "      <td>0.572727</td>\n",
       "      <td>0.445731</td>\n",
       "      <td>0.1536</td>\n",
       "    </tr>\n",
       "    <tr>\n",
       "      <th>3</th>\n",
       "      <td>0.731818</td>\n",
       "      <td>0.437048</td>\n",
       "      <td>0.6030</td>\n",
       "    </tr>\n",
       "    <tr>\n",
       "      <th>4</th>\n",
       "      <td>0.413636</td>\n",
       "      <td>0.589001</td>\n",
       "      <td>0.4873</td>\n",
       "    </tr>\n",
       "  </tbody>\n",
       "</table>\n",
       "</div>"
      ],
      "text/plain": [
       "   Temperature  Humidity  Light Intensity\n",
       "0     0.545455  0.863965           1.0000\n",
       "1     0.427273  0.625181           0.4704\n",
       "2     0.572727  0.445731           0.1536\n",
       "3     0.731818  0.437048           0.6030\n",
       "4     0.413636  0.589001           0.4873"
      ]
     },
     "execution_count": 27,
     "metadata": {},
     "output_type": "execute_result"
    }
   ],
   "source": [
    "X = pd.DataFrame(X_scaled, columns = X.columns)\n",
    "X.head()"
   ]
  },
  {
   "cell_type": "code",
   "execution_count": 29,
   "id": "653a038e-7887-4023-8f72-ff7f39062baa",
   "metadata": {},
   "outputs": [
    {
     "data": {
      "text/plain": [
       "(200000, 3)"
      ]
     },
     "execution_count": 29,
     "metadata": {},
     "output_type": "execute_result"
    }
   ],
   "source": [
    "X.shape"
   ]
  },
  {
   "cell_type": "code",
   "execution_count": 32,
   "id": "7727d8f1-b2be-4bb5-9c29-40330393d68f",
   "metadata": {},
   "outputs": [],
   "source": [
    "X_df_train, X_df_test, y_df_train, y_df_test = train_test_split(X_df_normalize, y, test_size=0.2, stratify=y, random_state= 42)"
   ]
  },
  {
   "cell_type": "code",
   "execution_count": 35,
   "id": "0e81e938-2297-4033-9c4d-3740f9dca60e",
   "metadata": {},
   "outputs": [
    {
     "data": {
      "text/plain": [
       "Weather Condition\n",
       "Rainy                0.933231\n",
       "Clear                0.066769\n",
       "Name: proportion, dtype: float64"
      ]
     },
     "execution_count": 35,
     "metadata": {},
     "output_type": "execute_result"
    }
   ],
   "source": [
    "y_df_train.value_counts(normalize=True)"
   ]
  },
  {
   "cell_type": "code",
   "execution_count": 38,
   "id": "da9611d8-c2dd-4fa7-908e-41a7ec59a221",
   "metadata": {},
   "outputs": [
    {
     "data": {
      "text/plain": [
       "Weather Condition\n",
       "Rainy                0.933225\n",
       "Clear                0.066775\n",
       "Name: proportion, dtype: float64"
      ]
     },
     "execution_count": 38,
     "metadata": {},
     "output_type": "execute_result"
    }
   ],
   "source": [
    "y_df_test.value_counts(normalize=True)"
   ]
  },
  {
   "cell_type": "code",
   "execution_count": 53,
   "id": "83db8727-c321-4210-90e9-7d6088ad83f0",
   "metadata": {},
   "outputs": [
    {
     "name": "stderr",
     "output_type": "stream",
     "text": [
      "/var/folders/ws/503klr8x1mg50ln159bwt6k80000gp/T/ipykernel_11617/241440053.py:3: DataConversionWarning: A column-vector y was passed when a 1d array was expected. Please change the shape of y to (n_samples,), for example using ravel().\n",
      "  clf.fit(X_df_train, y_df_train)\n",
      "[Parallel(n_jobs=1)]: Using backend SequentialBackend with 1 concurrent workers.\n",
      "[Parallel(n_jobs=1)]: Done   1 out of   1 | elapsed:    0.1s remaining:    0.0s\n"
     ]
    },
    {
     "name": "stdout",
     "output_type": "stream",
     "text": [
      "building tree 1 of 42\n",
      "building tree 2 of 42\n"
     ]
    },
    {
     "name": "stderr",
     "output_type": "stream",
     "text": [
      "[Parallel(n_jobs=1)]: Done   2 out of   2 | elapsed:    0.3s remaining:    0.0s\n"
     ]
    },
    {
     "name": "stdout",
     "output_type": "stream",
     "text": [
      "building tree 3 of 42\n",
      "building tree 4 of 42\n",
      "building tree 5 of 42\n",
      "building tree 6 of 42\n",
      "building tree 7 of 42\n",
      "building tree 8 of 42\n",
      "building tree 9 of 42\n",
      "building tree 10 of 42\n",
      "building tree 11 of 42\n",
      "building tree 12 of 42\n",
      "building tree 13 of 42\n",
      "building tree 14 of 42\n",
      "building tree 15 of 42\n",
      "building tree 16 of 42\n",
      "building tree 17 of 42\n",
      "building tree 18 of 42\n",
      "building tree 19 of 42\n",
      "building tree 20 of 42\n",
      "building tree 21 of 42\n",
      "building tree 22 of 42\n",
      "building tree 23 of 42\n",
      "building tree 24 of 42\n",
      "building tree 25 of 42\n",
      "building tree 26 of 42\n",
      "building tree 27 of 42\n",
      "building tree 28 of 42\n",
      "building tree 29 of 42\n",
      "building tree 30 of 42\n",
      "building tree 31 of 42\n",
      "building tree 32 of 42\n",
      "building tree 33 of 42\n",
      "building tree 34 of 42\n",
      "building tree 35 of 42\n",
      "building tree 36 of 42\n",
      "building tree 37 of 42\n",
      "building tree 38 of 42\n",
      "building tree 39 of 42\n",
      "building tree 40 of 42\n",
      "building tree 41 of 42\n",
      "building tree 42 of 42\n"
     ]
    },
    {
     "name": "stderr",
     "output_type": "stream",
     "text": [
      "[Parallel(n_jobs=1)]: Done  42 out of  42 | elapsed:    2.6s finished\n"
     ]
    },
    {
     "data": {
      "text/html": [
       "<style>#sk-container-id-2 {color: black;background-color: white;}#sk-container-id-2 pre{padding: 0;}#sk-container-id-2 div.sk-toggleable {background-color: white;}#sk-container-id-2 label.sk-toggleable__label {cursor: pointer;display: block;width: 100%;margin-bottom: 0;padding: 0.3em;box-sizing: border-box;text-align: center;}#sk-container-id-2 label.sk-toggleable__label-arrow:before {content: \"▸\";float: left;margin-right: 0.25em;color: #696969;}#sk-container-id-2 label.sk-toggleable__label-arrow:hover:before {color: black;}#sk-container-id-2 div.sk-estimator:hover label.sk-toggleable__label-arrow:before {color: black;}#sk-container-id-2 div.sk-toggleable__content {max-height: 0;max-width: 0;overflow: hidden;text-align: left;background-color: #f0f8ff;}#sk-container-id-2 div.sk-toggleable__content pre {margin: 0.2em;color: black;border-radius: 0.25em;background-color: #f0f8ff;}#sk-container-id-2 input.sk-toggleable__control:checked~div.sk-toggleable__content {max-height: 200px;max-width: 100%;overflow: auto;}#sk-container-id-2 input.sk-toggleable__control:checked~label.sk-toggleable__label-arrow:before {content: \"▾\";}#sk-container-id-2 div.sk-estimator input.sk-toggleable__control:checked~label.sk-toggleable__label {background-color: #d4ebff;}#sk-container-id-2 div.sk-label input.sk-toggleable__control:checked~label.sk-toggleable__label {background-color: #d4ebff;}#sk-container-id-2 input.sk-hidden--visually {border: 0;clip: rect(1px 1px 1px 1px);clip: rect(1px, 1px, 1px, 1px);height: 1px;margin: -1px;overflow: hidden;padding: 0;position: absolute;width: 1px;}#sk-container-id-2 div.sk-estimator {font-family: monospace;background-color: #f0f8ff;border: 1px dotted black;border-radius: 0.25em;box-sizing: border-box;margin-bottom: 0.5em;}#sk-container-id-2 div.sk-estimator:hover {background-color: #d4ebff;}#sk-container-id-2 div.sk-parallel-item::after {content: \"\";width: 100%;border-bottom: 1px solid gray;flex-grow: 1;}#sk-container-id-2 div.sk-label:hover label.sk-toggleable__label {background-color: #d4ebff;}#sk-container-id-2 div.sk-serial::before {content: \"\";position: absolute;border-left: 1px solid gray;box-sizing: border-box;top: 0;bottom: 0;left: 50%;z-index: 0;}#sk-container-id-2 div.sk-serial {display: flex;flex-direction: column;align-items: center;background-color: white;padding-right: 0.2em;padding-left: 0.2em;position: relative;}#sk-container-id-2 div.sk-item {position: relative;z-index: 1;}#sk-container-id-2 div.sk-parallel {display: flex;align-items: stretch;justify-content: center;background-color: white;position: relative;}#sk-container-id-2 div.sk-item::before, #sk-container-id-2 div.sk-parallel-item::before {content: \"\";position: absolute;border-left: 1px solid gray;box-sizing: border-box;top: 0;bottom: 0;left: 50%;z-index: -1;}#sk-container-id-2 div.sk-parallel-item {display: flex;flex-direction: column;z-index: 1;position: relative;background-color: white;}#sk-container-id-2 div.sk-parallel-item:first-child::after {align-self: flex-end;width: 50%;}#sk-container-id-2 div.sk-parallel-item:last-child::after {align-self: flex-start;width: 50%;}#sk-container-id-2 div.sk-parallel-item:only-child::after {width: 0;}#sk-container-id-2 div.sk-dashed-wrapped {border: 1px dashed gray;margin: 0 0.4em 0.5em 0.4em;box-sizing: border-box;padding-bottom: 0.4em;background-color: white;}#sk-container-id-2 div.sk-label label {font-family: monospace;font-weight: bold;display: inline-block;line-height: 1.2em;}#sk-container-id-2 div.sk-label-container {text-align: center;}#sk-container-id-2 div.sk-container {/* jupyter's `normalize.less` sets `[hidden] { display: none; }` but bootstrap.min.css set `[hidden] { display: none !important; }` so we also need the `!important` here to be able to override the default hidden behavior on the sphinx rendered scikit-learn.org. See: https://github.com/scikit-learn/scikit-learn/issues/21755 */display: inline-block !important;position: relative;}#sk-container-id-2 div.sk-text-repr-fallback {display: none;}</style><div id=\"sk-container-id-2\" class=\"sk-top-container\"><div class=\"sk-text-repr-fallback\"><pre>RandomForestClassifier(n_estimators=42, random_state=42, verbose=3)</pre><b>In a Jupyter environment, please rerun this cell to show the HTML representation or trust the notebook. <br />On GitHub, the HTML representation is unable to render, please try loading this page with nbviewer.org.</b></div><div class=\"sk-container\" hidden><div class=\"sk-item\"><div class=\"sk-estimator sk-toggleable\"><input class=\"sk-toggleable__control sk-hidden--visually\" id=\"sk-estimator-id-2\" type=\"checkbox\" checked><label for=\"sk-estimator-id-2\" class=\"sk-toggleable__label sk-toggleable__label-arrow\">RandomForestClassifier</label><div class=\"sk-toggleable__content\"><pre>RandomForestClassifier(n_estimators=42, random_state=42, verbose=3)</pre></div></div></div></div></div>"
      ],
      "text/plain": [
       "RandomForestClassifier(n_estimators=42, random_state=42, verbose=3)"
      ]
     },
     "execution_count": 53,
     "metadata": {},
     "output_type": "execute_result"
    }
   ],
   "source": [
    "from sklearn.ensemble import RandomForestClassifier\n",
    "clf = RandomForestClassifier(verbose=3,random_state=42,n_estimators=42)\n",
    "clf.fit(X_df_train, y_df_train)"
   ]
  },
  {
   "cell_type": "code",
   "execution_count": 55,
   "id": "4b4ec2c1-4297-4014-8445-ffaaa1955c94",
   "metadata": {},
   "outputs": [
    {
     "name": "stderr",
     "output_type": "stream",
     "text": [
      "[Parallel(n_jobs=1)]: Using backend SequentialBackend with 1 concurrent workers.\n",
      "[Parallel(n_jobs=1)]: Done   1 out of   1 | elapsed:    0.0s remaining:    0.0s\n",
      "[Parallel(n_jobs=1)]: Done   2 out of   2 | elapsed:    0.0s remaining:    0.0s\n",
      "[Parallel(n_jobs=1)]: Done  42 out of  42 | elapsed:    0.3s finished\n"
     ]
    },
    {
     "data": {
      "text/plain": [
       "array(['Rainy', 'Rainy', 'Rainy', ..., 'Rainy', 'Rainy', 'Rainy'],\n",
       "      dtype=object)"
      ]
     },
     "execution_count": 55,
     "metadata": {},
     "output_type": "execute_result"
    }
   ],
   "source": [
    "y_pred = clf.predict(X_df_test)\n",
    "y_pred"
   ]
  },
  {
   "cell_type": "code",
   "execution_count": 65,
   "id": "3d7bf5bb-545b-48ee-ba44-5f4cb405f0a3",
   "metadata": {},
   "outputs": [
    {
     "name": "stdout",
     "output_type": "stream",
     "text": [
      "F1_score: 1.0\n",
      "Accuracy: 1.0\n"
     ]
    }
   ],
   "source": [
    "from sklearn.metrics import f1_score, accuracy_score\n",
    "\n",
    "# we are using f1_score because \n",
    "# This is a classification model\n",
    "# Assuming y_df_test contains the true labels and y_pred contains the predicted labels\n",
    "# CoWnvert categorical labels to numeric\n",
    "label_encoder = LabelEncoder()\n",
    "\n",
    "# Use .ravel() or .values.flatten() to convert to 1D array\n",
    "y_df_test_encoded = label_encoder.fit_transform(y_df_test.values.ravel())\n",
    "\n",
    "# If y_pred is also categorical, you need to encode it as well\n",
    "y_pred_encoded = label_encoder.transform(y_pred)\n",
    "\n",
    "# Now calculate the F1 score and accuracy\n",
    "print(\"F1_score:\", f1_score(y_df_test_encoded, y_pred_encoded, average='weighted'))\n",
    "print(\"Accuracy:\", accuracy_score(y_df_test_encoded, y_pred_encoded))"
   ]
  },
  {
   "cell_type": "code",
   "execution_count": 67,
   "id": "d116dabc-2d90-4f45-83dc-9ead48a6022a",
   "metadata": {},
   "outputs": [],
   "source": [
    "X = df[['Air Quality']]\n",
    "y = df[['Air-quality Condition']]"
   ]
  },
  {
   "cell_type": "code",
   "execution_count": 69,
   "id": "4cca704c-8595-4145-a356-d72676857d56",
   "metadata": {},
   "outputs": [],
   "source": [
    "sc = StandardScaler()"
   ]
  },
  {
   "cell_type": "code",
   "execution_count": 71,
   "id": "3147bb91-c2cb-4af7-bb60-81c646eb0423",
   "metadata": {},
   "outputs": [
    {
     "data": {
      "text/html": [
       "<div>\n",
       "<style scoped>\n",
       "    .dataframe tbody tr th:only-of-type {\n",
       "        vertical-align: middle;\n",
       "    }\n",
       "\n",
       "    .dataframe tbody tr th {\n",
       "        vertical-align: top;\n",
       "    }\n",
       "\n",
       "    .dataframe thead th {\n",
       "        text-align: right;\n",
       "    }\n",
       "</style>\n",
       "<table border=\"1\" class=\"dataframe\">\n",
       "  <thead>\n",
       "    <tr style=\"text-align: right;\">\n",
       "      <th></th>\n",
       "      <th>Air Quality</th>\n",
       "    </tr>\n",
       "  </thead>\n",
       "  <tbody>\n",
       "    <tr>\n",
       "      <th>0</th>\n",
       "      <td>1.826589</td>\n",
       "    </tr>\n",
       "    <tr>\n",
       "      <th>1</th>\n",
       "      <td>-0.112546</td>\n",
       "    </tr>\n",
       "    <tr>\n",
       "      <th>2</th>\n",
       "      <td>-0.732270</td>\n",
       "    </tr>\n",
       "    <tr>\n",
       "      <th>3</th>\n",
       "      <td>-0.362435</td>\n",
       "    </tr>\n",
       "    <tr>\n",
       "      <th>4</th>\n",
       "      <td>1.436763</td>\n",
       "    </tr>\n",
       "    <tr>\n",
       "      <th>...</th>\n",
       "      <td>...</td>\n",
       "    </tr>\n",
       "    <tr>\n",
       "      <th>199995</th>\n",
       "      <td>-1.002149</td>\n",
       "    </tr>\n",
       "    <tr>\n",
       "      <th>199996</th>\n",
       "      <td>1.876566</td>\n",
       "    </tr>\n",
       "    <tr>\n",
       "      <th>199997</th>\n",
       "      <td>0.976968</td>\n",
       "    </tr>\n",
       "    <tr>\n",
       "      <th>199998</th>\n",
       "      <td>0.077369</td>\n",
       "    </tr>\n",
       "    <tr>\n",
       "      <th>199999</th>\n",
       "      <td>1.056932</td>\n",
       "    </tr>\n",
       "  </tbody>\n",
       "</table>\n",
       "<p>200000 rows × 1 columns</p>\n",
       "</div>"
      ],
      "text/plain": [
       "        Air Quality\n",
       "0          1.826589\n",
       "1         -0.112546\n",
       "2         -0.732270\n",
       "3         -0.362435\n",
       "4          1.436763\n",
       "...             ...\n",
       "199995    -1.002149\n",
       "199996     1.876566\n",
       "199997     0.976968\n",
       "199998     0.077369\n",
       "199999     1.056932\n",
       "\n",
       "[200000 rows x 1 columns]"
      ]
     },
     "execution_count": 71,
     "metadata": {},
     "output_type": "execute_result"
    }
   ],
   "source": [
    "X_df_normalize = pd.DataFrame(sc.fit_transform(X), columns = X.columns)\n",
    "X_df_normalize"
   ]
  },
  {
   "cell_type": "code",
   "execution_count": null,
   "id": "2f6b2724-fcec-4a12-83a7-f9b1eea6c266",
   "metadata": {},
   "outputs": [],
   "source": [
    "sc = MinMaxScaler()\n",
    "X_scaled = sc.fit_transform(X)"
   ]
  },
  {
   "cell_type": "code",
   "execution_count": null,
   "id": "783796d2-e968-48ef-bbb4-9b4c3815f793",
   "metadata": {},
   "outputs": [],
   "source": [
    "X = pd.DataFrame(X_scaled, columns = X.columns)\n",
    "X.head()"
   ]
  },
  {
   "cell_type": "code",
   "execution_count": null,
   "id": "4a59834f-0e50-47c6-ab7f-8fc1d6dbdd4e",
   "metadata": {},
   "outputs": [],
   "source": [
    "X_df_train, X_df_test, y_df_train, y_df_test = train_test_split(X_df_normalize, y, test_size=0.2, stratify=y, random_state= 42)"
   ]
  },
  {
   "cell_type": "code",
   "execution_count": null,
   "id": "e2de93d7-68a8-4d38-b74f-e2d8d92e2469",
   "metadata": {},
   "outputs": [],
   "source": [
    "y_df_train.value_counts(normalize=True)"
   ]
  },
  {
   "cell_type": "code",
   "execution_count": null,
   "id": "172a9ae3-907e-48ce-9b06-23b331e08133",
   "metadata": {},
   "outputs": [],
   "source": [
    "y_df_test.value_counts(normalize=True)"
   ]
  },
  {
   "cell_type": "code",
   "execution_count": null,
   "id": "96a9db1c-7cf9-4054-9f29-ea21342c647e",
   "metadata": {},
   "outputs": [],
   "source": [
    "from sklearn.ensemble import RandomForestClassifier\n",
    "clf = RandomForestClassifier(verbose=3,random_state=42,n_estimators=42)\n",
    "clf.fit(X_df_train, y_df_train)"
   ]
  },
  {
   "cell_type": "code",
   "execution_count": null,
   "id": "0046ea5a-eb17-4803-bc06-290473f80d93",
   "metadata": {},
   "outputs": [],
   "source": [
    "y_pred = clf.predict(X_df_test)\n",
    "y_pred"
   ]
  },
  {
   "cell_type": "code",
   "execution_count": null,
   "id": "de4e0ec9-742e-43be-bf67-4322f2e53bb6",
   "metadata": {},
   "outputs": [],
   "source": [
    "from sklearn.metrics import f1_score, accuracy_score\n",
    "\n",
    "# we are using f1_score because \n",
    "# This is a classification model\n",
    "# Assuming y_df_test contains the true labels and y_pred contains the predicted labels\n",
    "# CoWnvert categorical labels to numeric\n",
    "label_encoder = LabelEncoder()\n",
    "\n",
    "# Use .ravel() or .values.flatten() to convert to 1D array\n",
    "y_df_test_encoded = label_encoder.fit_transform(y_df_test.values.ravel())\n",
    "\n",
    "# If y_pred is also categorical, you need to encode it as well\n",
    "y_pred_encoded = label_encoder.transform(y_pred)\n",
    "\n",
    "# Now calculate the F1 score and accuracy\n",
    "print(\"F1_score:\", f1_score(y_df_test_encoded, y_pred_encoded, average='weighted'))\n",
    "print(\"Accuracy:\", accuracy_score(y_df_test_encoded, y_pred_encoded))"
   ]
  }
 ],
 "metadata": {
  "kernelspec": {
   "display_name": "Python 3 (ipykernel)",
   "language": "python",
   "name": "python3"
  },
  "language_info": {
   "codemirror_mode": {
    "name": "ipython",
    "version": 3
   },
   "file_extension": ".py",
   "mimetype": "text/x-python",
   "name": "python",
   "nbconvert_exporter": "python",
   "pygments_lexer": "ipython3",
   "version": "3.11.7"
  },
  "widgets": {
   "application/vnd.jupyter.widget-state+json": {
    "state": {},
    "version_major": 2,
    "version_minor": 0
   }
  }
 },
 "nbformat": 4,
 "nbformat_minor": 5
}
