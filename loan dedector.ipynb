{
 "cells": [
  {
   "cell_type": "markdown",
   "id": "942d18b7",
   "metadata": {},
   "source": [
    "# <h2><center> Importation of Libraries<center><h2>"
   ]
  },
  {
   "cell_type": "code",
   "execution_count": 2,
   "id": "eba36466",
   "metadata": {},
   "outputs": [],
   "source": [
    "# importation of libaries\n",
    "import pandas as pd\n",
    "import numpy as np\n",
    "import sklearn\n",
    "\n",
    "import matplotlib.pyplot as plt\n",
    "%matplotlib inline\n",
    "import seaborn as sns\n",
    "sns.set()\n",
    "sns.set(style=\"darkgrid\")\n",
    "plt.rcParams['figure.figsize']=(10,10)\n",
    "\n",
    "from sklearn.preprocessing import OneHotEncoder\n",
    "from sklearn.model_selection import train_test_split\n",
    "from sklearn.preprocessing import LabelEncoder\n",
    "from sklearn.preprocessing import StandardScaler\n",
    "from sklearn.linear_model import LogisticRegression\n",
    "\n",
    "import warnings\n",
    "warnings.simplefilter(action='ignore', category=FutureWarning)\n",
    "warnings.simplefilter(action='ignore', category=UserWarning)\n"
   ]
  },
  {
   "cell_type": "markdown",
   "id": "3f013f08",
   "metadata": {},
   "source": [
    "<center><h2>Loading and Preprocessing of Dataset</h2></center>"
   ]
  },
  {
   "cell_type": "code",
   "execution_count": 4,
   "id": "10392513",
   "metadata": {
    "scrolled": true
   },
   "outputs": [
    {
     "ename": "FileNotFoundError",
     "evalue": "[Errno 2] No such file or directory: 'train_vighd.csv'",
     "output_type": "error",
     "traceback": [
      "\u001b[0;31m---------------------------------------------------------------------------\u001b[0m",
      "\u001b[0;31mFileNotFoundError\u001b[0m                         Traceback (most recent call last)",
      "Cell \u001b[0;32mIn[4], line 2\u001b[0m\n\u001b[1;32m      1\u001b[0m \u001b[38;5;66;03m# display of train dataset\u001b[39;00m\n\u001b[0;32m----> 2\u001b[0m df_train \u001b[38;5;241m=\u001b[39m pd\u001b[38;5;241m.\u001b[39mread_csv(\u001b[38;5;124m\"\u001b[39m\u001b[38;5;124mtrain_vighd.csv\u001b[39m\u001b[38;5;124m\"\u001b[39m)\n\u001b[1;32m      3\u001b[0m df_train\u001b[38;5;241m.\u001b[39mhead(\u001b[38;5;241m10\u001b[39m)\n",
      "File \u001b[0;32m/opt/anaconda3/lib/python3.11/site-packages/pandas/io/parsers/readers.py:948\u001b[0m, in \u001b[0;36mread_csv\u001b[0;34m(filepath_or_buffer, sep, delimiter, header, names, index_col, usecols, dtype, engine, converters, true_values, false_values, skipinitialspace, skiprows, skipfooter, nrows, na_values, keep_default_na, na_filter, verbose, skip_blank_lines, parse_dates, infer_datetime_format, keep_date_col, date_parser, date_format, dayfirst, cache_dates, iterator, chunksize, compression, thousands, decimal, lineterminator, quotechar, quoting, doublequote, escapechar, comment, encoding, encoding_errors, dialect, on_bad_lines, delim_whitespace, low_memory, memory_map, float_precision, storage_options, dtype_backend)\u001b[0m\n\u001b[1;32m    935\u001b[0m kwds_defaults \u001b[38;5;241m=\u001b[39m _refine_defaults_read(\n\u001b[1;32m    936\u001b[0m     dialect,\n\u001b[1;32m    937\u001b[0m     delimiter,\n\u001b[0;32m   (...)\u001b[0m\n\u001b[1;32m    944\u001b[0m     dtype_backend\u001b[38;5;241m=\u001b[39mdtype_backend,\n\u001b[1;32m    945\u001b[0m )\n\u001b[1;32m    946\u001b[0m kwds\u001b[38;5;241m.\u001b[39mupdate(kwds_defaults)\n\u001b[0;32m--> 948\u001b[0m \u001b[38;5;28;01mreturn\u001b[39;00m _read(filepath_or_buffer, kwds)\n",
      "File \u001b[0;32m/opt/anaconda3/lib/python3.11/site-packages/pandas/io/parsers/readers.py:611\u001b[0m, in \u001b[0;36m_read\u001b[0;34m(filepath_or_buffer, kwds)\u001b[0m\n\u001b[1;32m    608\u001b[0m _validate_names(kwds\u001b[38;5;241m.\u001b[39mget(\u001b[38;5;124m\"\u001b[39m\u001b[38;5;124mnames\u001b[39m\u001b[38;5;124m\"\u001b[39m, \u001b[38;5;28;01mNone\u001b[39;00m))\n\u001b[1;32m    610\u001b[0m \u001b[38;5;66;03m# Create the parser.\u001b[39;00m\n\u001b[0;32m--> 611\u001b[0m parser \u001b[38;5;241m=\u001b[39m TextFileReader(filepath_or_buffer, \u001b[38;5;241m*\u001b[39m\u001b[38;5;241m*\u001b[39mkwds)\n\u001b[1;32m    613\u001b[0m \u001b[38;5;28;01mif\u001b[39;00m chunksize \u001b[38;5;129;01mor\u001b[39;00m iterator:\n\u001b[1;32m    614\u001b[0m     \u001b[38;5;28;01mreturn\u001b[39;00m parser\n",
      "File \u001b[0;32m/opt/anaconda3/lib/python3.11/site-packages/pandas/io/parsers/readers.py:1448\u001b[0m, in \u001b[0;36mTextFileReader.__init__\u001b[0;34m(self, f, engine, **kwds)\u001b[0m\n\u001b[1;32m   1445\u001b[0m     \u001b[38;5;28mself\u001b[39m\u001b[38;5;241m.\u001b[39moptions[\u001b[38;5;124m\"\u001b[39m\u001b[38;5;124mhas_index_names\u001b[39m\u001b[38;5;124m\"\u001b[39m] \u001b[38;5;241m=\u001b[39m kwds[\u001b[38;5;124m\"\u001b[39m\u001b[38;5;124mhas_index_names\u001b[39m\u001b[38;5;124m\"\u001b[39m]\n\u001b[1;32m   1447\u001b[0m \u001b[38;5;28mself\u001b[39m\u001b[38;5;241m.\u001b[39mhandles: IOHandles \u001b[38;5;241m|\u001b[39m \u001b[38;5;28;01mNone\u001b[39;00m \u001b[38;5;241m=\u001b[39m \u001b[38;5;28;01mNone\u001b[39;00m\n\u001b[0;32m-> 1448\u001b[0m \u001b[38;5;28mself\u001b[39m\u001b[38;5;241m.\u001b[39m_engine \u001b[38;5;241m=\u001b[39m \u001b[38;5;28mself\u001b[39m\u001b[38;5;241m.\u001b[39m_make_engine(f, \u001b[38;5;28mself\u001b[39m\u001b[38;5;241m.\u001b[39mengine)\n",
      "File \u001b[0;32m/opt/anaconda3/lib/python3.11/site-packages/pandas/io/parsers/readers.py:1705\u001b[0m, in \u001b[0;36mTextFileReader._make_engine\u001b[0;34m(self, f, engine)\u001b[0m\n\u001b[1;32m   1703\u001b[0m     \u001b[38;5;28;01mif\u001b[39;00m \u001b[38;5;124m\"\u001b[39m\u001b[38;5;124mb\u001b[39m\u001b[38;5;124m\"\u001b[39m \u001b[38;5;129;01mnot\u001b[39;00m \u001b[38;5;129;01min\u001b[39;00m mode:\n\u001b[1;32m   1704\u001b[0m         mode \u001b[38;5;241m+\u001b[39m\u001b[38;5;241m=\u001b[39m \u001b[38;5;124m\"\u001b[39m\u001b[38;5;124mb\u001b[39m\u001b[38;5;124m\"\u001b[39m\n\u001b[0;32m-> 1705\u001b[0m \u001b[38;5;28mself\u001b[39m\u001b[38;5;241m.\u001b[39mhandles \u001b[38;5;241m=\u001b[39m get_handle(\n\u001b[1;32m   1706\u001b[0m     f,\n\u001b[1;32m   1707\u001b[0m     mode,\n\u001b[1;32m   1708\u001b[0m     encoding\u001b[38;5;241m=\u001b[39m\u001b[38;5;28mself\u001b[39m\u001b[38;5;241m.\u001b[39moptions\u001b[38;5;241m.\u001b[39mget(\u001b[38;5;124m\"\u001b[39m\u001b[38;5;124mencoding\u001b[39m\u001b[38;5;124m\"\u001b[39m, \u001b[38;5;28;01mNone\u001b[39;00m),\n\u001b[1;32m   1709\u001b[0m     compression\u001b[38;5;241m=\u001b[39m\u001b[38;5;28mself\u001b[39m\u001b[38;5;241m.\u001b[39moptions\u001b[38;5;241m.\u001b[39mget(\u001b[38;5;124m\"\u001b[39m\u001b[38;5;124mcompression\u001b[39m\u001b[38;5;124m\"\u001b[39m, \u001b[38;5;28;01mNone\u001b[39;00m),\n\u001b[1;32m   1710\u001b[0m     memory_map\u001b[38;5;241m=\u001b[39m\u001b[38;5;28mself\u001b[39m\u001b[38;5;241m.\u001b[39moptions\u001b[38;5;241m.\u001b[39mget(\u001b[38;5;124m\"\u001b[39m\u001b[38;5;124mmemory_map\u001b[39m\u001b[38;5;124m\"\u001b[39m, \u001b[38;5;28;01mFalse\u001b[39;00m),\n\u001b[1;32m   1711\u001b[0m     is_text\u001b[38;5;241m=\u001b[39mis_text,\n\u001b[1;32m   1712\u001b[0m     errors\u001b[38;5;241m=\u001b[39m\u001b[38;5;28mself\u001b[39m\u001b[38;5;241m.\u001b[39moptions\u001b[38;5;241m.\u001b[39mget(\u001b[38;5;124m\"\u001b[39m\u001b[38;5;124mencoding_errors\u001b[39m\u001b[38;5;124m\"\u001b[39m, \u001b[38;5;124m\"\u001b[39m\u001b[38;5;124mstrict\u001b[39m\u001b[38;5;124m\"\u001b[39m),\n\u001b[1;32m   1713\u001b[0m     storage_options\u001b[38;5;241m=\u001b[39m\u001b[38;5;28mself\u001b[39m\u001b[38;5;241m.\u001b[39moptions\u001b[38;5;241m.\u001b[39mget(\u001b[38;5;124m\"\u001b[39m\u001b[38;5;124mstorage_options\u001b[39m\u001b[38;5;124m\"\u001b[39m, \u001b[38;5;28;01mNone\u001b[39;00m),\n\u001b[1;32m   1714\u001b[0m )\n\u001b[1;32m   1715\u001b[0m \u001b[38;5;28;01massert\u001b[39;00m \u001b[38;5;28mself\u001b[39m\u001b[38;5;241m.\u001b[39mhandles \u001b[38;5;129;01mis\u001b[39;00m \u001b[38;5;129;01mnot\u001b[39;00m \u001b[38;5;28;01mNone\u001b[39;00m\n\u001b[1;32m   1716\u001b[0m f \u001b[38;5;241m=\u001b[39m \u001b[38;5;28mself\u001b[39m\u001b[38;5;241m.\u001b[39mhandles\u001b[38;5;241m.\u001b[39mhandle\n",
      "File \u001b[0;32m/opt/anaconda3/lib/python3.11/site-packages/pandas/io/common.py:863\u001b[0m, in \u001b[0;36mget_handle\u001b[0;34m(path_or_buf, mode, encoding, compression, memory_map, is_text, errors, storage_options)\u001b[0m\n\u001b[1;32m    858\u001b[0m \u001b[38;5;28;01melif\u001b[39;00m \u001b[38;5;28misinstance\u001b[39m(handle, \u001b[38;5;28mstr\u001b[39m):\n\u001b[1;32m    859\u001b[0m     \u001b[38;5;66;03m# Check whether the filename is to be opened in binary mode.\u001b[39;00m\n\u001b[1;32m    860\u001b[0m     \u001b[38;5;66;03m# Binary mode does not support 'encoding' and 'newline'.\u001b[39;00m\n\u001b[1;32m    861\u001b[0m     \u001b[38;5;28;01mif\u001b[39;00m ioargs\u001b[38;5;241m.\u001b[39mencoding \u001b[38;5;129;01mand\u001b[39;00m \u001b[38;5;124m\"\u001b[39m\u001b[38;5;124mb\u001b[39m\u001b[38;5;124m\"\u001b[39m \u001b[38;5;129;01mnot\u001b[39;00m \u001b[38;5;129;01min\u001b[39;00m ioargs\u001b[38;5;241m.\u001b[39mmode:\n\u001b[1;32m    862\u001b[0m         \u001b[38;5;66;03m# Encoding\u001b[39;00m\n\u001b[0;32m--> 863\u001b[0m         handle \u001b[38;5;241m=\u001b[39m \u001b[38;5;28mopen\u001b[39m(\n\u001b[1;32m    864\u001b[0m             handle,\n\u001b[1;32m    865\u001b[0m             ioargs\u001b[38;5;241m.\u001b[39mmode,\n\u001b[1;32m    866\u001b[0m             encoding\u001b[38;5;241m=\u001b[39mioargs\u001b[38;5;241m.\u001b[39mencoding,\n\u001b[1;32m    867\u001b[0m             errors\u001b[38;5;241m=\u001b[39merrors,\n\u001b[1;32m    868\u001b[0m             newline\u001b[38;5;241m=\u001b[39m\u001b[38;5;124m\"\u001b[39m\u001b[38;5;124m\"\u001b[39m,\n\u001b[1;32m    869\u001b[0m         )\n\u001b[1;32m    870\u001b[0m     \u001b[38;5;28;01melse\u001b[39;00m:\n\u001b[1;32m    871\u001b[0m         \u001b[38;5;66;03m# Binary mode\u001b[39;00m\n\u001b[1;32m    872\u001b[0m         handle \u001b[38;5;241m=\u001b[39m \u001b[38;5;28mopen\u001b[39m(handle, ioargs\u001b[38;5;241m.\u001b[39mmode)\n",
      "\u001b[0;31mFileNotFoundError\u001b[0m: [Errno 2] No such file or directory: 'train_vighd.csv'"
     ]
    }
   ],
   "source": [
    "# display of train dataset\n",
    "df_train = pd.read_csv(\"train_vighd.csv\")\n",
    "df_train.head(10)"
   ]
  },
  {
   "cell_type": "code",
   "execution_count": null,
   "id": "ade419d8",
   "metadata": {},
   "outputs": [],
   "source": [
    "df_train.shape"
   ]
  },
  {
   "cell_type": "code",
   "execution_count": null,
   "id": "ee8675ff",
   "metadata": {},
   "outputs": [],
   "source": [
    "# displaying the total count for each column\n",
    "df_train[df_train[\"proof_submitted\"] == \"Aadhar\" ].count()"
   ]
  },
  {
   "cell_type": "code",
   "execution_count": null,
   "id": "12ae736e",
   "metadata": {},
   "outputs": [],
   "source": [
    "# display of the test data set\n",
    "df_test = pd.read_csv(\"test_vighd.csv\")\n",
    "df_test.head(10)"
   ]
  },
  {
   "cell_type": "code",
   "execution_count": null,
   "id": "65f055d7",
   "metadata": {},
   "outputs": [],
   "source": [
    "df_test.shape"
   ]
  },
  {
   "cell_type": "code",
   "execution_count": null,
   "id": "c32db87b",
   "metadata": {},
   "outputs": [],
   "source": [
    "# from this information below we have 0 to 7000 entries and 9 columns nor of our column as missing values except from education\n",
    "df_train.info()"
   ]
  },
  {
   "cell_type": "code",
   "execution_count": null,
   "id": "a60212f1",
   "metadata": {},
   "outputs": [],
   "source": [
    "# from this information below we have 0 to 3000 entries and 8 columns nor of our column as missing values except from education\n",
    "df_test.info() "
   ]
  },
  {
   "cell_type": "code",
   "execution_count": null,
   "id": "f8089993",
   "metadata": {},
   "outputs": [],
   "source": [
    "df_train.columns"
   ]
  },
  {
   "cell_type": "code",
   "execution_count": null,
   "id": "f0f6ca8a",
   "metadata": {},
   "outputs": [],
   "source": [
    "df_test.columns"
   ]
  },
  {
   "cell_type": "markdown",
   "id": "e82ff603",
   "metadata": {},
   "source": [
    "<h2> <center> Cleaning Of The Dataset </center> <h3>"
   ]
  },
  {
   "cell_type": "code",
   "execution_count": null,
   "id": "204a1d18",
   "metadata": {},
   "outputs": [],
   "source": [
    "df_train.describe()"
   ]
  },
  {
   "cell_type": "code",
   "execution_count": null,
   "id": "b892354c",
   "metadata": {},
   "outputs": [],
   "source": [
    "df_train.isna().sum()"
   ]
  },
  {
   "cell_type": "code",
   "execution_count": null,
   "id": "cae50445",
   "metadata": {},
   "outputs": [],
   "source": [
    "mean_value = df_train[\"education\"] .mean()\n",
    "print(mean_value)"
   ]
  },
  {
   "cell_type": "code",
   "execution_count": null,
   "id": "a966d588",
   "metadata": {},
   "outputs": [],
   "source": [
    "df_train[\"education\"].fillna(mean_value, inplace=True)"
   ]
  },
  {
   "cell_type": "code",
   "execution_count": null,
   "id": "d63091da",
   "metadata": {},
   "outputs": [],
   "source": [
    "df_train.isna().sum()"
   ]
  },
  {
   "cell_type": "code",
   "execution_count": null,
   "id": "edef618f",
   "metadata": {},
   "outputs": [],
   "source": [
    "df_train.head()"
   ]
  },
  {
   "cell_type": "code",
   "execution_count": null,
   "id": "85c26212",
   "metadata": {},
   "outputs": [],
   "source": [
    "df_test.describe()"
   ]
  },
  {
   "cell_type": "code",
   "execution_count": null,
   "id": "0d918f56",
   "metadata": {},
   "outputs": [],
   "source": [
    "df_test.isna().sum()"
   ]
  },
  {
   "cell_type": "code",
   "execution_count": null,
   "id": "3708b26b",
   "metadata": {},
   "outputs": [],
   "source": [
    "mean_value = df_test[\"education\"] .mean()\n",
    "print(mean_value)"
   ]
  },
  {
   "cell_type": "code",
   "execution_count": null,
   "id": "29b81fa8",
   "metadata": {},
   "outputs": [],
   "source": [
    "df_test[\"education\"].fillna(mean_value, inplace=True)"
   ]
  },
  {
   "cell_type": "code",
   "execution_count": null,
   "id": "d8389b06",
   "metadata": {},
   "outputs": [],
   "source": [
    "df_test.isnull().sum()"
   ]
  },
  {
   "cell_type": "markdown",
   "id": "d40d5d16",
   "metadata": {},
   "source": [
    "<h2> <center> Visualizaton Of The Dataset </center> <h2>"
   ]
  },
  {
   "cell_type": "markdown",
   "id": "4fcecf24",
   "metadata": {},
   "source": [
    "### Train Dataset Visualization"
   ]
  },
  {
   "cell_type": "code",
   "execution_count": null,
   "id": "89d9aaea",
   "metadata": {},
   "outputs": [],
   "source": [
    "sns.distplot(df_train['loan_default'])\n",
    "plt.figure(figsize=(2,10))"
   ]
  },
  {
   "cell_type": "code",
   "execution_count": null,
   "id": "b1349234",
   "metadata": {},
   "outputs": [],
   "source": [
    "sns.kdeplot(df_train['loan_default'], shade=True);\n",
    "plt.rcParams['figure.figsize'] = (10,10)"
   ]
  },
  {
   "cell_type": "code",
   "execution_count": null,
   "id": "3824f8b7",
   "metadata": {},
   "outputs": [],
   "source": [
    "sns.kdeplot(df_train['no_of_curr_loans'])\n",
    "plt.figure(figsize=(10,10))"
   ]
  },
  {
   "cell_type": "code",
   "execution_count": null,
   "id": "a1934b29",
   "metadata": {},
   "outputs": [],
   "source": [
    "sns.kdeplot(df_train['no_of_loans'])\n",
    "plt.figure(figsize=(10,10))"
   ]
  },
  {
   "cell_type": "code",
   "execution_count": null,
   "id": "4c6ee31f",
   "metadata": {
    "scrolled": true
   },
   "outputs": [],
   "source": [
    "sns.kdeplot(df_train['loan_amount'])\n",
    "plt.figure(figsize=(10,10))"
   ]
  },
  {
   "cell_type": "code",
   "execution_count": null,
   "id": "0eaab014",
   "metadata": {},
   "outputs": [],
   "source": [
    "df_train[\"no_of_curr_loans\"].unique()"
   ]
  },
  {
   "cell_type": "code",
   "execution_count": null,
   "id": "62c1bdcf",
   "metadata": {
    "scrolled": true
   },
   "outputs": [],
   "source": [
    "sns.barplot(y=\"loan_amount\", x=\"no_of_curr_loans\",data= df_train[:1000] , orient = \"vertical\")"
   ]
  },
  {
   "cell_type": "code",
   "execution_count": null,
   "id": "b23d983e",
   "metadata": {},
   "outputs": [],
   "source": [
    "sns.barplot(y=\"loan_amount\", x=\"no_of_loans\",data= df_train[:100] , orient = \"vertical\")"
   ]
  },
  {
   "cell_type": "code",
   "execution_count": null,
   "id": "cb645fe0",
   "metadata": {},
   "outputs": [],
   "source": [
    "#sns.(y=\"no_of_loans\", x=\"loan_default\",data= df_train[:10] , orient = \"vertical\")\n",
    "sns.catplot(y=\"no_of_loans\", x=\"loan_default\", kind='strip',data=df_train[:1000]);"
   ]
  },
  {
   "cell_type": "code",
   "execution_count": null,
   "id": "efb939e8",
   "metadata": {},
   "outputs": [],
   "source": [
    "sns.relplot(x=\"no_of_curr_loans\", y=\"loan_amount\", hue=\"no_of_loans\",data=df_train, palette=\"Accent_r\")"
   ]
  },
  {
   "cell_type": "markdown",
   "id": "97dd69ad",
   "metadata": {},
   "source": [
    "### Test Dataset Visualization"
   ]
  },
  {
   "cell_type": "code",
   "execution_count": null,
   "id": "6137a5d8",
   "metadata": {},
   "outputs": [],
   "source": [
    "df_test.head()"
   ]
  },
  {
   "cell_type": "code",
   "execution_count": null,
   "id": "575e19e3",
   "metadata": {},
   "outputs": [],
   "source": [
    "sns.kdeplot(df_test['no_of_curr_loans'], shade=True);\n",
    "plt.rcParams['figure.figsize'] = (10,10)"
   ]
  },
  {
   "cell_type": "code",
   "execution_count": null,
   "id": "2a726196",
   "metadata": {},
   "outputs": [],
   "source": [
    "sns.distplot(df_test['loan_amount'])\n",
    "plt.rcParams['figure.figsize'] = (10,10)"
   ]
  },
  {
   "cell_type": "code",
   "execution_count": null,
   "id": "eefae059",
   "metadata": {},
   "outputs": [],
   "source": [
    "sns.distplot(df_test['no_of_loans'], )\n",
    "plt.rcParams['figure.figsize'] = (10,10)"
   ]
  },
  {
   "cell_type": "code",
   "execution_count": null,
   "id": "4e5c2cd5",
   "metadata": {},
   "outputs": [],
   "source": [
    "df_train[\"loan_amount\"].count()"
   ]
  },
  {
   "cell_type": "code",
   "execution_count": null,
   "id": "f983bfdc",
   "metadata": {},
   "outputs": [],
   "source": [
    "sns.barplot(y=\"loan_amount\", x=\"no_of_loans\",data= df_test[:100] , orient = \"vertical\")\n",
    "plt.rcParams['figure.figsize']=(10,5)"
   ]
  },
  {
   "cell_type": "code",
   "execution_count": null,
   "id": "405079c9",
   "metadata": {},
   "outputs": [],
   "source": [
    "sns.jointplot(y=\"no_of_loans\", x=\"age\",data=df_test[:100]);"
   ]
  },
  {
   "cell_type": "code",
   "execution_count": null,
   "id": "daf16f5a",
   "metadata": {},
   "outputs": [],
   "source": [
    "sns.jointplot(x=\"no_of_curr_loans\", y=\"loan_amount\",data=df_test);"
   ]
  },
  {
   "cell_type": "code",
   "execution_count": null,
   "id": "0dcd04ff",
   "metadata": {},
   "outputs": [],
   "source": [
    "df_test[\"education\"].unique()"
   ]
  },
  {
   "cell_type": "code",
   "execution_count": null,
   "id": "79e32d76",
   "metadata": {},
   "outputs": [],
   "source": [
    "sns.jointplot(x=\"age\", y=\"loan_amount\", hue=\"no_of_curr_loans\",data=df_test[:100], legend =\"full\" ,palette=\"Accent\")\n",
    "plt.rcParams['figure.figsize']=(20,7)\n",
    "\n"
   ]
  },
  {
   "cell_type": "code",
   "execution_count": null,
   "id": "681fd1d0",
   "metadata": {},
   "outputs": [],
   "source": [
    "sns.relplot(x=\"no_of_curr_loans\", y=\"loan_amount\", hue=\"education\",data=df_train, palette =\"viridis_r\")"
   ]
  },
  {
   "cell_type": "markdown",
   "id": "3e2ec209",
   "metadata": {},
   "source": [
    "<h2> <center> OneHot Encoding </center> </h2>"
   ]
  },
  {
   "cell_type": "code",
   "execution_count": null,
   "id": "639112ba",
   "metadata": {
    "scrolled": true
   },
   "outputs": [],
   "source": [
    "cat_features= {'loan_id', 'age', 'education', 'proof_submitted', 'loan_amount',\n",
    "       'asset_cost', 'no_of_loans', 'no_of_curr_loans', 'last_delinq_none',\n",
    "       'loan_default'}\n",
    "\n",
    "\n",
    "for cat_feature in cat_features:\n",
    "    print(cat_feature, df_train[cat_feature] . unique() ,sep=\":\")\n",
    "    print(\"#\"*50)"
   ]
  },
  {
   "cell_type": "code",
   "execution_count": null,
   "id": "10b31018",
   "metadata": {},
   "outputs": [],
   "source": [
    "df_train.drop([\"loan_id\"] ,axis =1 ,inplace =True)"
   ]
  },
  {
   "cell_type": "code",
   "execution_count": null,
   "id": "c20ed3ec",
   "metadata": {},
   "outputs": [],
   "source": [
    "df_train.head()"
   ]
  },
  {
   "cell_type": "code",
   "execution_count": null,
   "id": "625f83e3",
   "metadata": {},
   "outputs": [],
   "source": [
    "# Label Encoding\n",
    "cat_features = [\"proof_submitted\"]\n",
    "\n",
    "for cat_feature in cat_features:\n",
    "    df_train[f\"{cat_feature}_cat\"] = df_train[cat_feature].astype('category')\n",
    "    df_train[f\"{cat_feature}_cat\"] = df_train[f\"{cat_feature}_cat\"].cat.codes\n",
    "\n",
    "df_train.head()"
   ]
  },
  {
   "cell_type": "code",
   "execution_count": null,
   "id": "04555f13",
   "metadata": {},
   "outputs": [],
   "source": [
    "df_train.drop([\"proof_submitted\"], axis =1 ,inplace =True)"
   ]
  },
  {
   "cell_type": "code",
   "execution_count": null,
   "id": "d0f276ba",
   "metadata": {},
   "outputs": [],
   "source": [
    "df_train.head()"
   ]
  },
  {
   "cell_type": "code",
   "execution_count": null,
   "id": "0e1f7d67",
   "metadata": {},
   "outputs": [],
   "source": [
    "cat_features= {'loan_id', 'age', 'education', 'proof_submitted', 'loan_amount',\n",
    "       'asset_cost', 'no_of_loans', 'no_of_curr_loans', 'last_delinq_none'}\n",
    "\n",
    "\n",
    "for cat_feature in cat_features:\n",
    "    print(cat_feature, df_test[cat_feature] . unique() ,sep=\":\")\n",
    "    print(\"#\"*50)"
   ]
  },
  {
   "cell_type": "code",
   "execution_count": null,
   "id": "3ec60d58",
   "metadata": {},
   "outputs": [],
   "source": [
    "df_test.drop([\"loan_id\"], axis= 1 , inplace =True)"
   ]
  },
  {
   "cell_type": "code",
   "execution_count": null,
   "id": "6fc80ef3",
   "metadata": {},
   "outputs": [],
   "source": [
    "df_test.head()"
   ]
  },
  {
   "cell_type": "code",
   "execution_count": null,
   "id": "ff7520cf",
   "metadata": {},
   "outputs": [],
   "source": [
    "# Label Encoding\n",
    "cat_features = [\"proof_submitted\"]\n",
    "\n",
    "for cat_feature in cat_features:\n",
    "    df_test[f\"{cat_feature}_cat\"] = df_test[cat_feature].astype('category')\n",
    "    df_test[f\"{cat_feature}_cat\"] = df_test[f\"{cat_feature}_cat\"].cat.codes\n",
    "\n",
    "df_test.head()"
   ]
  },
  {
   "cell_type": "code",
   "execution_count": null,
   "id": "b2bf72f9",
   "metadata": {
    "scrolled": true
   },
   "outputs": [],
   "source": [
    "df_test.drop([\"proof_submitted\"], axis= 1, inplace =True)"
   ]
  },
  {
   "cell_type": "code",
   "execution_count": null,
   "id": "ccb2676f",
   "metadata": {},
   "outputs": [],
   "source": [
    "df_test.head()"
   ]
  },
  {
   "cell_type": "code",
   "execution_count": null,
   "id": "1aec612f",
   "metadata": {},
   "outputs": [],
   "source": [
    "df_train.describe()"
   ]
  },
  {
   "cell_type": "code",
   "execution_count": null,
   "id": "9c903d15",
   "metadata": {},
   "outputs": [],
   "source": [
    "df_train.isna().sum() | df_test.isna().sum()"
   ]
  },
  {
   "cell_type": "code",
   "execution_count": null,
   "id": "e41f25a1",
   "metadata": {},
   "outputs": [],
   "source": [
    "df_train.describe()"
   ]
  },
  {
   "cell_type": "code",
   "execution_count": null,
   "id": "eac91b17",
   "metadata": {},
   "outputs": [],
   "source": [
    "df_train[\"no_of_loans\"].hist(bins=30)"
   ]
  },
  {
   "cell_type": "code",
   "execution_count": null,
   "id": "868cace5",
   "metadata": {},
   "outputs": [],
   "source": [
    "log_no_of_loans= np.log(df_train['no_of_loans'] + 1)\n",
    "log_no_of_loans.hist(bins=50)\n"
   ]
  },
  {
   "cell_type": "code",
   "execution_count": null,
   "id": "02f625fd",
   "metadata": {},
   "outputs": [],
   "source": [
    "df_train[\"no_of_curr_loans\"].hist(bins=50)"
   ]
  },
  {
   "cell_type": "code",
   "execution_count": null,
   "id": "7fbaa313",
   "metadata": {},
   "outputs": [],
   "source": [
    "log_no_of_curr_loans = np.log(df_train['no_of_curr_loans'] +1)\n",
    "log_no_of_curr_loans.hist(bins=50)\n"
   ]
  },
  {
   "cell_type": "code",
   "execution_count": null,
   "id": "10a19020",
   "metadata": {},
   "outputs": [],
   "source": [
    "df_train.describe()"
   ]
  },
  {
   "cell_type": "code",
   "execution_count": null,
   "id": "0972e531",
   "metadata": {},
   "outputs": [],
   "source": [
    "df_test.describe()"
   ]
  },
  {
   "cell_type": "markdown",
   "id": "a3c42429",
   "metadata": {},
   "source": [
    "## correlation of train dataset\n"
   ]
  },
  {
   "cell_type": "code",
   "execution_count": null,
   "id": "1b346c20",
   "metadata": {},
   "outputs": [],
   "source": [
    "plt.figure(figsize=(10,9))\n",
    "sns.heatmap(df_train.corr() ,annot =True)\n"
   ]
  },
  {
   "cell_type": "code",
   "execution_count": null,
   "id": "1784eef4",
   "metadata": {},
   "outputs": [],
   "source": [
    "plt.figure(figsize=(10,9))\n",
    "sns.heatmap(df_test.corr(),cmap=\"Dark2_r\", annot =True)\n"
   ]
  },
  {
   "cell_type": "markdown",
   "id": "bee3e099",
   "metadata": {},
   "source": [
    "<h2> <center> Data Segmentation</center> </h2>"
   ]
  },
  {
   "cell_type": "code",
   "execution_count": null,
   "id": "8b6e05c1",
   "metadata": {},
   "outputs": [],
   "source": [
    "y = df_train[\"loan_default\"] # Target\n",
    "x = df_train.drop(\"loan_default\", axis=1)"
   ]
  },
  {
   "cell_type": "code",
   "execution_count": null,
   "id": "460aff54",
   "metadata": {},
   "outputs": [],
   "source": [
    "scaler = StandardScaler()"
   ]
  },
  {
   "cell_type": "code",
   "execution_count": null,
   "id": "4c041976",
   "metadata": {},
   "outputs": [],
   "source": [
    "x_df_normalize = pd.DataFrame(scaler.fit_transform(x), columns = x.columns)\n",
    "x_df_normalize"
   ]
  },
  {
   "cell_type": "code",
   "execution_count": null,
   "id": "e870fecc",
   "metadata": {},
   "outputs": [],
   "source": [
    "## Importing the MinMax Scaler\n",
    "from sklearn.preprocessing import MinMaxScaler\n",
    "scaler = MinMaxScaler()\n",
    "x_scaled = scaler.fit_transform(x)"
   ]
  },
  {
   "cell_type": "code",
   "execution_count": null,
   "id": "20204b5e",
   "metadata": {},
   "outputs": [],
   "source": [
    "x = pd.DataFrame(x_scaled, columns = x.columns)\n",
    "x.head()"
   ]
  },
  {
   "cell_type": "code",
   "execution_count": null,
   "id": "cac89985",
   "metadata": {},
   "outputs": [],
   "source": [
    "x.shape"
   ]
  },
  {
   "cell_type": "code",
   "execution_count": null,
   "id": "27d90dbc",
   "metadata": {},
   "outputs": [],
   "source": [
    "x_df_train, x_df_test, y_df_train, y_df_test = train_test_split(x_df_normalize, y, test_size=0.3, stratify=y, random_state= 96)"
   ]
  },
  {
   "cell_type": "code",
   "execution_count": null,
   "id": "8d8bc471",
   "metadata": {},
   "outputs": [],
   "source": [
    "# distribution in training set\n",
    "y_df_train.value_counts(normalize=True)"
   ]
  },
  {
   "cell_type": "code",
   "execution_count": null,
   "id": "98f79529",
   "metadata": {},
   "outputs": [],
   "source": [
    "# distribution in test set\n",
    "y_df_test.value_counts(normalize=True)"
   ]
  },
  {
   "cell_type": "code",
   "execution_count": null,
   "id": "34d90527",
   "metadata": {},
   "outputs": [],
   "source": [
    "#shape of training set\n",
    "x_df_train.shape, y_df_train.shape"
   ]
  },
  {
   "cell_type": "code",
   "execution_count": null,
   "id": "c6189806",
   "metadata": {},
   "outputs": [],
   "source": [
    "# distribution in test set\n",
    "y_df_test.value_counts(normalize=True)"
   ]
  },
  {
   "cell_type": "code",
   "execution_count": null,
   "id": "2904000a",
   "metadata": {},
   "outputs": [],
   "source": [
    "from sklearn.linear_model import LogisticRegression\n",
    "\n",
    "clf = LogisticRegression(random_state=42, class_weight=\"balanced\" ,verbose=3,)\n",
    "clf.fit(x_df_train, y_df_train)\n"
   ]
  },
  {
   "cell_type": "code",
   "execution_count": null,
   "id": "9fb6b5bd",
   "metadata": {},
   "outputs": [],
   "source": [
    "y_pred = clf.predict(x_df_test)\n",
    "y_pred"
   ]
  },
  {
   "cell_type": "code",
   "execution_count": null,
   "id": "eb547e34",
   "metadata": {},
   "outputs": [],
   "source": [
    "from sklearn.metrics import f1_score, accuracy_score\n",
    "\n",
    "# we are using f1_score because \n",
    "# this is a classification model\n",
    "\n",
    "y_pred = clf.predict(x_df_test)\n",
    "\n",
    "print(\"F1_score\", f1_score(y_df_test,y_pred))\n",
    "print(\"accuracy\" , accuracy_score(y_df_test,y_pred))"
   ]
  },
  {
   "cell_type": "code",
   "execution_count": null,
   "id": "fbc3c4de",
   "metadata": {},
   "outputs": [],
   "source": [
    "from sklearn.tree import DecisionTreeClassifier\n",
    "\n",
    "clf = DecisionTreeClassifier(max_depth=11,random_state =42)\n",
    "clf.fit(x_df_train, y_df_train)\n",
    "y_pred = clf.predict(x_df_test)\n",
    "\n",
    "print(\"F1_score\", f1_score(y_df_test,y_pred))\n",
    "print(\"accuracy\" , accuracy_score(y_df_test,y_pred))"
   ]
  },
  {
   "cell_type": "code",
   "execution_count": null,
   "id": "6893eec2",
   "metadata": {},
   "outputs": [],
   "source": [
    "from sklearn.ensemble import RandomForestClassifier\n",
    "\n",
    "clf=RandomForestClassifier(verbose=3,random_state=42,n_estimators=42)\n",
    "clf.fit(x_df_train, y_df_train)"
   ]
  },
  {
   "cell_type": "code",
   "execution_count": null,
   "id": "c02176be",
   "metadata": {},
   "outputs": [],
   "source": [
    "y_pred = clf.predict(x_df_test)\n",
    "print(\"accuracy_score\", accuracy_score(y_df_test, y_pred))\n",
    "print(\"f1_score\", f1_score(y_df_test, y_pred))"
   ]
  },
  {
   "cell_type": "code",
   "execution_count": null,
   "id": "7ba1348f",
   "metadata": {},
   "outputs": [],
   "source": [
    "#importing KNN classifier and metric F1score\n",
    "from sklearn.neighbors import KNeighborsClassifier as KNN\n",
    "from sklearn.metrics import f1_score"
   ]
  },
  {
   "cell_type": "code",
   "execution_count": null,
   "id": "2cc6de73-26c3-4b88-95c3-aa519c3ce8f1",
   "metadata": {},
   "outputs": [],
   "source": [
    "# Creating instance of KNN for training\n",
    "clf = KNN(leaf_size =3,p=1,weights=\"uniform\",n_jobs=-1,algorithm= 'brute')\n",
    "\n",
    "# Fitting the model\n",
    "clf.fit(x_df_train, y_df_train)\n",
    "\n",
    "# Predicting over the Train Set and calculating F1\n",
    "test_predict = clf.predict(x_df_train) \n",
    "print(\"accuracy_score\", accuracy_score(test_predict, y_df_train))\n",
    "k = f1_score(test_predict, y_df_train)\n",
    "print('Test F1 Score    ', k )"
   ]
  },
  {
   "cell_type": "code",
   "execution_count": null,
   "id": "7f5cb925",
   "metadata": {},
   "outputs": [],
   "source": [
    "# Creating instance of KNN\n",
    "clf = KNN(leaf_size =3,p=1,weights=\"uniform\",n_jobs=-1,algorithm= 'brute')\n",
    "\n",
    "# Fitting the model\n",
    "clf.fit(x_df_train, y_df_train)\n",
    "\n",
    "# Predicting over the Train Set and calculating F1\n",
    "test_predict = clf.predict(x_df_train) \n",
    "print(\"accuracy_score\", accuracy_score(y_df_test, y_pred))\n",
    "k = f1_score( y_df_test,y_pred)\n",
    "print('Test F1 Score    ', k )"
   ]
  },
  {
   "cell_type": "code",
   "execution_count": null,
   "id": "8a830e71",
   "metadata": {},
   "outputs": [],
   "source": [
    "def Val_score(n_neighbors):\n",
    "    '''\n",
    "  takes range of n_neighbors as input\n",
    "  returns Mean and Standard Deviation for each value of n_neighbors\n",
    "  '''\n",
    "    avg = []\n",
    "    std = []\n",
    "  \n",
    "    for i in n_neighbors:\n",
    "    \n",
    "    # 10 fold cross validation for every value of n_neighbor\n",
    "      score = cross_val_score( KNN(n_neighbors = i,leaf_size =11,algorithm= 'brute') , X = x_df_train, y = y_df_train, cv = 10)\n",
    "\n",
    "    # adding mean to avg list\n",
    "      avg.append(score.mean())\n",
    "    \n",
    "    # adding standard deviation to std list\n",
    "      std.append(score.std())\n",
    "    \n",
    "    return avg, std"
   ]
  },
  {
   "cell_type": "code",
   "execution_count": null,
   "id": "93963c66",
   "metadata": {},
   "outputs": [],
   "source": [
    "from sklearn.model_selection import cross_val_score\n",
    "score = cross_val_score( KNN(n_neighbors=3,weights=\"uniform\",n_jobs=-1,algorithm= 'brute'), X= x_df_train, y = y_df_train , cv =17)\n",
    "score.mean()"
   ]
  },
  {
   "cell_type": "code",
   "execution_count": null,
   "id": "1f283abc",
   "metadata": {},
   "outputs": [],
   "source": [
    "n_neighbors = range(1,30)\n",
    "mean, std = Val_score(n_neighbors)"
   ]
  },
  {
   "cell_type": "code",
   "execution_count": null,
   "id": "ede65cd8",
   "metadata": {},
   "outputs": [],
   "source": [
    "plt.plot(n_neighbors[10:20], mean[10:20], color = 'green', label = 'mean' )\n",
    "plt.xlabel('n_neighbors')\n",
    "plt.ylabel('Mean Score')\n",
    "plt.title('Mean Validation score')"
   ]
  },
  {
   "cell_type": "code",
   "execution_count": null,
   "id": "22bd7570",
   "metadata": {},
   "outputs": [],
   "source": [
    "plt.plot(n_neighbors[10:20], std[10:20], color = 'red', label = 'Standard deviation' )\n",
    "plt.xlabel('n_neighbors')\n",
    "plt.ylabel('magnitude')\n",
    "plt.title('Standard Deviation of Validation score')"
   ]
  },
  {
   "cell_type": "code",
   "execution_count": null,
   "id": "933d8acf",
   "metadata": {},
   "outputs": [],
   "source": [
    "clf = KNN(n_neighbors = 13)\n",
    "clf.fit(x_df_train, y_df_train)\n",
    "\n",
    "score = clf.score(x_df_train, y_df_train)\n",
    "\n",
    "score"
   ]
  },
  {
   "cell_type": "code",
   "execution_count": null,
   "id": "23e5f71c",
   "metadata": {},
   "outputs": [],
   "source": [
    "clf = KNN(n_neighbors = 20)\n",
    "clf.fit(x_df_train, y_df_train)\n",
    "\n",
    "score1 = clf.score(x_df_train, y_df_train)\n",
    "score1"
   ]
  },
  {
   "cell_type": "code",
   "execution_count": null,
   "id": "bc69781b",
   "metadata": {},
   "outputs": [],
   "source": [
    "# Consistency using Mean and standard deviation in percentage\n",
    "score.mean()*100, score.std()*100"
   ]
  },
  {
   "cell_type": "code",
   "execution_count": null,
   "id": "2503707b",
   "metadata": {
    "scrolled": true
   },
   "outputs": [],
   "source": [
    "import lightgbm\n",
    "import time\n",
    "\n",
    "start = time.time()\n",
    "lgbm = lightgbm.LGBMClassifier(n_estimators=45,num_leaves=10, boosting_type = 'goss',class_weight=\"balanced\", reg_alpha= 0.1,reg_lambda= 0.5, random_state= 42 )\n",
    "\n",
    "lgbm.fit(x_df_train ,y_df_train)\n",
    "y_pred =lgbm.predict(x_df_test)\n",
    "\n",
    "print(\"accuracy_score\", accuracy_score(y_df_test, y_pred))\n",
    "print(\"f1_score\", f1_score(y_df_test, y_pred))\n",
    "\n",
    "end =time.time()\n",
    "diff =end - start\n",
    "print(\"Execution time :\", diff)"
   ]
  },
  {
   "cell_type": "code",
   "execution_count": null,
   "id": "25f45f7a",
   "metadata": {},
   "outputs": [],
   "source": [
    "from sklearn.model_selection import train_test_split, KFold, StratifiedKFold"
   ]
  },
  {
   "cell_type": "code",
   "execution_count": null,
   "id": "7313acbc",
   "metadata": {},
   "outputs": [],
   "source": [
    "from sklearn.ensemble import GradientBoostingClassifier\n",
    "import time\n",
    "\n",
    "start = time.time()\n",
    "gbm = GradientBoostingClassifier(n_estimators =1000)\n",
    "\n",
    "gbm.fit(x_df_train ,y_df_train)\n",
    "y_pred =gbm.predict(x_df_test)\n",
    "\n",
    "print(\"accuracy_score\", accuracy_score(y_df_test, y_pred))\n",
    "print(\"f1_score\", f1_score(y_df_test, y_pred))\n",
    "\n",
    "\n",
    "end =time.time()\n",
    "diff =end - start\n",
    "print(\"Execution time :\", diff)"
   ]
  },
  {
   "cell_type": "code",
   "execution_count": null,
   "id": "fe2f7376",
   "metadata": {},
   "outputs": [],
   "source": [
    "def cv_score(ml_model, rstate = 11, cols = x.columns):\n",
    "    i = 1\n",
    "    cv_scores = []\n",
    "    df1 = df_train.copy()\n",
    "    df1 = df_train[cols]\n",
    "    \n",
    "    kf = KFold(n_splits=5,random_state=rstate,shuffle=True)\n",
    "    for train_index,test_index in kf.split(df1,y):\n",
    "        print('\\n{} of kfold {}'.format(i,kf.n_splits))\n",
    "        xtr,xvl = df1.loc[train_index],df1.loc[test_index]\n",
    "        ytr,yvl = y[train_index],y[test_index]\n",
    "\n",
    "        model = ml_model\n",
    "        model.fit(xtr, ytr)\n",
    "        train_val = model.predict(xtr)\n",
    "        pred_val = model.predict(xvl)\n",
    "        Accuracy_score =accuracy_score(yvl,pred_val)\n",
    "        F1_score = f1_score(yvl,pred_val)\n",
    "        sufix = \"\"\n",
    "        msg = \"\"\n",
    "        msg += \"f1_score: {:.4} \".format(F1_score)\n",
    "        msg +=\"accuracy_score:{:.4}\".format(Accuracy_score)\n",
    "        print(\"{}\".format(msg))\n",
    "     \n",
    "    # Save scores\n",
    "        cv_scores.append(F1_score,)\n",
    "        i+=1 \n",
    "    return cv_scores"
   ]
  },
  {
   "cell_type": "code",
   "execution_count": null,
   "id": "b755cfd0",
   "metadata": {},
   "outputs": [],
   "source": [
    "baseline_scores = cv_score(LogisticRegression())"
   ]
  },
  {
   "cell_type": "code",
   "execution_count": null,
   "id": "e1aa993a",
   "metadata": {},
   "outputs": [],
   "source": [
    "random_forest =cv_score(RandomForestClassifier())"
   ]
  },
  {
   "cell_type": "code",
   "execution_count": null,
   "id": "f82a7851",
   "metadata": {},
   "outputs": [],
   "source": [
    "knn_score = cv_score(KNN(n_neighbors=3 ,leaf_size=11,p=2,weights=\"distance\",n_jobs=-1,algorithm= 'brute'))"
   ]
  },
  {
   "cell_type": "code",
   "execution_count": null,
   "id": "c877db38",
   "metadata": {},
   "outputs": [],
   "source": [
    "GBM =cv_score(GradientBoostingClassifier(n_estimators=42,loss= 'exponential',random_state=1,criterion= 'squared_error'))"
   ]
  },
  {
   "cell_type": "code",
   "execution_count": null,
   "id": "172e4624",
   "metadata": {
    "scrolled": true
   },
   "outputs": [],
   "source": [
    "DTC=cv_score(DecisionTreeClassifier(max_depth=10))"
   ]
  },
  {
   "cell_type": "code",
   "execution_count": null,
   "id": "85a0b7d6",
   "metadata": {},
   "outputs": [],
   "source": [
    "lLGBM = cv_score(lightgbm.LGBMClassifier(n_estimators=42,num_leaves=10, boosting_type = 'goss',class_weight=\"balanced\", reg_alpha= 0.1,reg_lambda= 0.1, random_state= 42 )\n",
    ")"
   ]
  },
  {
   "cell_type": "code",
   "execution_count": null,
   "id": "9d22b269",
   "metadata": {},
   "outputs": [],
   "source": [
    "from sklearn.feature_selection import RFE\n",
    "\n",
    "\n",
    "# Create the RFE object and rank each feature\n",
    "model = LogisticRegression()\n",
    "rfe = RFE(estimator=model, n_features_to_select=1, step=1)\n",
    "rfe.fit(x, y)"
   ]
  },
  {
   "cell_type": "code",
   "execution_count": null,
   "id": "4144756d",
   "metadata": {},
   "outputs": [],
   "source": [
    "ranking_df = pd.DataFrame()\n",
    "ranking_df['Feature_name'] = x.columns\n",
    "ranking_df['Rank'] = rfe.ranking_"
   ]
  },
  {
   "cell_type": "code",
   "execution_count": null,
   "id": "e5561084",
   "metadata": {},
   "outputs": [],
   "source": [
    "ranked = ranking_df.sort_values(by=['Rank'])"
   ]
  },
  {
   "cell_type": "code",
   "execution_count": null,
   "id": "22ab5112",
   "metadata": {},
   "outputs": [],
   "source": [
    "ranked"
   ]
  },
  {
   "cell_type": "code",
   "execution_count": null,
   "id": "aa92bb88",
   "metadata": {},
   "outputs": [],
   "source": [
    "rfe_top_10_scores = cv_score(LogisticRegression() , cols = ranked['Feature_name'][:9].values)"
   ]
  },
  {
   "cell_type": "code",
   "execution_count": null,
   "id": "cc1c4e1f",
   "metadata": {
    "scrolled": true
   },
   "outputs": [],
   "source": [
    "rfe_top_scores1 = cv_score(RandomForestClassifier(n_estimators=20) ,cols =ranked[\"Feature_name\"][:9].values)"
   ]
  },
  {
   "cell_type": "code",
   "execution_count": null,
   "id": "c887e314",
   "metadata": {},
   "outputs": [],
   "source": [
    "rfe_top_scores2 = cv_score(KNN(n_neighbors = 3,leaf_size=11) ,cols =ranked[\"Feature_name\"][:9].values)"
   ]
  },
  {
   "cell_type": "code",
   "execution_count": null,
   "id": "778ab001",
   "metadata": {},
   "outputs": [],
   "source": []
  },
  {
   "cell_type": "code",
   "execution_count": null,
   "id": "22091a9a",
   "metadata": {},
   "outputs": [],
   "source": []
  },
  {
   "cell_type": "code",
   "execution_count": null,
   "id": "5029ab0e",
   "metadata": {},
   "outputs": [],
   "source": []
  },
  {
   "cell_type": "code",
   "execution_count": null,
   "id": "fe3bb0c5",
   "metadata": {},
   "outputs": [],
   "source": []
  }
 ],
 "metadata": {
  "kernelspec": {
   "display_name": "Python 3 (ipykernel)",
   "language": "python",
   "name": "python3"
  },
  "language_info": {
   "codemirror_mode": {
    "name": "ipython",
    "version": 3
   },
   "file_extension": ".py",
   "mimetype": "text/x-python",
   "name": "python",
   "nbconvert_exporter": "python",
   "pygments_lexer": "ipython3",
   "version": "3.11.7"
  },
  "widgets": {
   "application/vnd.jupyter.widget-state+json": {
    "state": {},
    "version_major": 2,
    "version_minor": 0
   }
  }
 },
 "nbformat": 4,
 "nbformat_minor": 5
}
